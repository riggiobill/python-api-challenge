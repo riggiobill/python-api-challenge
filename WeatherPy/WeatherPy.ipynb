{
 "cells": [
  {
   "cell_type": "markdown",
   "metadata": {},
   "source": [
    "# WeatherPy\n",
    "----\n",
    "\n",
    "#### Note\n",
    "* Instructions have been included for each segment. You do not have to follow them exactly, but they are included to help you think through the steps."
   ]
  },
  {
   "cell_type": "code",
   "execution_count": 1,
   "metadata": {},
   "outputs": [],
   "source": [
    "import pandas as pd\n",
    "import numpy as np\n",
    "import requests\n",
    "import json\n",
    "import matplotlib.pyplot as plt\n",
    "\n",
    "from api_keys import weather_api_key\n",
    "from citipy import citipy\n",
    "from scipy import stats"
   ]
  },
  {
   "cell_type": "code",
   "execution_count": 2,
   "metadata": {
    "scrolled": true
   },
   "outputs": [
    {
     "data": {
      "text/html": [
       "<div>\n",
       "<style scoped>\n",
       "    .dataframe tbody tr th:only-of-type {\n",
       "        vertical-align: middle;\n",
       "    }\n",
       "\n",
       "    .dataframe tbody tr th {\n",
       "        vertical-align: top;\n",
       "    }\n",
       "\n",
       "    .dataframe thead th {\n",
       "        text-align: right;\n",
       "    }\n",
       "</style>\n",
       "<table border=\"1\" class=\"dataframe\">\n",
       "  <thead>\n",
       "    <tr style=\"text-align: right;\">\n",
       "      <th></th>\n",
       "      <th>long</th>\n",
       "      <th>lat</th>\n",
       "    </tr>\n",
       "  </thead>\n",
       "  <tbody>\n",
       "    <tr>\n",
       "      <th>0</th>\n",
       "      <td>137.364628</td>\n",
       "      <td>-69.991489</td>\n",
       "    </tr>\n",
       "    <tr>\n",
       "      <th>1</th>\n",
       "      <td>69.408120</td>\n",
       "      <td>-39.161338</td>\n",
       "    </tr>\n",
       "    <tr>\n",
       "      <th>2</th>\n",
       "      <td>13.224387</td>\n",
       "      <td>-15.842042</td>\n",
       "    </tr>\n",
       "    <tr>\n",
       "      <th>3</th>\n",
       "      <td>23.848946</td>\n",
       "      <td>-25.021350</td>\n",
       "    </tr>\n",
       "    <tr>\n",
       "      <th>4</th>\n",
       "      <td>139.087753</td>\n",
       "      <td>78.730408</td>\n",
       "    </tr>\n",
       "  </tbody>\n",
       "</table>\n",
       "</div>"
      ],
      "text/plain": [
       "         long        lat\n",
       "0  137.364628 -69.991489\n",
       "1   69.408120 -39.161338\n",
       "2   13.224387 -15.842042\n",
       "3   23.848946 -25.021350\n",
       "4  139.087753  78.730408"
      ]
     },
     "execution_count": 2,
     "metadata": {},
     "output_type": "execute_result"
    }
   ],
   "source": [
    "\n",
    "#Casts a dataframe with two very long sets of random numbers formatted for use as random lat/long coordinates\n",
    "cities_df = pd.DataFrame({\"long\":(np.random.uniform(-1.8,1.8,1200)*100), \"lat\":(np.random.uniform(-0.9,0.9,1200)*100)})\n",
    "\n",
    "####\n",
    "#### API SAVER FOR TESTING\n",
    "####\n",
    "#cities_df = cities_df.truncate(after = 59)\n",
    "\n",
    "\n",
    "cities_df.head()\n",
    "\n",
    "#city = citipy.nearest_city(22.99,120.21)\n",
    "#city.country_code"
   ]
  },
  {
   "cell_type": "markdown",
   "metadata": {},
   "source": [
    "## Generate Cities List"
   ]
  },
  {
   "cell_type": "code",
   "execution_count": 3,
   "metadata": {},
   "outputs": [
    {
     "data": {
      "text/html": [
       "<div>\n",
       "<style scoped>\n",
       "    .dataframe tbody tr th:only-of-type {\n",
       "        vertical-align: middle;\n",
       "    }\n",
       "\n",
       "    .dataframe tbody tr th {\n",
       "        vertical-align: top;\n",
       "    }\n",
       "\n",
       "    .dataframe thead th {\n",
       "        text-align: right;\n",
       "    }\n",
       "</style>\n",
       "<table border=\"1\" class=\"dataframe\">\n",
       "  <thead>\n",
       "    <tr style=\"text-align: right;\">\n",
       "      <th></th>\n",
       "      <th>long</th>\n",
       "      <th>lat</th>\n",
       "      <th>City</th>\n",
       "      <th>Country</th>\n",
       "    </tr>\n",
       "  </thead>\n",
       "  <tbody>\n",
       "    <tr>\n",
       "      <th>0</th>\n",
       "      <td>137.364628</td>\n",
       "      <td>-69.991489</td>\n",
       "      <td>hobart</td>\n",
       "      <td>au</td>\n",
       "    </tr>\n",
       "    <tr>\n",
       "      <th>1</th>\n",
       "      <td>69.408120</td>\n",
       "      <td>-39.161338</td>\n",
       "      <td>mahebourg</td>\n",
       "      <td>mu</td>\n",
       "    </tr>\n",
       "    <tr>\n",
       "      <th>2</th>\n",
       "      <td>13.224387</td>\n",
       "      <td>-15.842042</td>\n",
       "      <td>lubango</td>\n",
       "      <td>ao</td>\n",
       "    </tr>\n",
       "    <tr>\n",
       "      <th>3</th>\n",
       "      <td>23.848946</td>\n",
       "      <td>-25.021350</td>\n",
       "      <td>khakhea</td>\n",
       "      <td>bw</td>\n",
       "    </tr>\n",
       "    <tr>\n",
       "      <th>4</th>\n",
       "      <td>139.087753</td>\n",
       "      <td>78.730408</td>\n",
       "      <td>nizhneyansk</td>\n",
       "      <td>ru</td>\n",
       "    </tr>\n",
       "    <tr>\n",
       "      <th>5</th>\n",
       "      <td>-144.036335</td>\n",
       "      <td>75.851886</td>\n",
       "      <td>fairbanks</td>\n",
       "      <td>us</td>\n",
       "    </tr>\n",
       "    <tr>\n",
       "      <th>6</th>\n",
       "      <td>-25.159503</td>\n",
       "      <td>-44.241665</td>\n",
       "      <td>arraial do cabo</td>\n",
       "      <td>br</td>\n",
       "    </tr>\n",
       "    <tr>\n",
       "      <th>7</th>\n",
       "      <td>73.249359</td>\n",
       "      <td>-61.128297</td>\n",
       "      <td>saint-philippe</td>\n",
       "      <td>re</td>\n",
       "    </tr>\n",
       "    <tr>\n",
       "      <th>8</th>\n",
       "      <td>12.614730</td>\n",
       "      <td>-36.226080</td>\n",
       "      <td>saldanha</td>\n",
       "      <td>za</td>\n",
       "    </tr>\n",
       "    <tr>\n",
       "      <th>9</th>\n",
       "      <td>66.494037</td>\n",
       "      <td>-53.678342</td>\n",
       "      <td>saint-philippe</td>\n",
       "      <td>re</td>\n",
       "    </tr>\n",
       "  </tbody>\n",
       "</table>\n",
       "</div>"
      ],
      "text/plain": [
       "         long        lat             City Country\n",
       "0  137.364628 -69.991489           hobart      au\n",
       "1   69.408120 -39.161338        mahebourg      mu\n",
       "2   13.224387 -15.842042          lubango      ao\n",
       "3   23.848946 -25.021350          khakhea      bw\n",
       "4  139.087753  78.730408      nizhneyansk      ru\n",
       "5 -144.036335  75.851886        fairbanks      us\n",
       "6  -25.159503 -44.241665  arraial do cabo      br\n",
       "7   73.249359 -61.128297   saint-philippe      re\n",
       "8   12.614730 -36.226080         saldanha      za\n",
       "9   66.494037 -53.678342   saint-philippe      re"
      ]
     },
     "execution_count": 3,
     "metadata": {},
     "output_type": "execute_result"
    }
   ],
   "source": [
    "cities_name = []\n",
    "countrycode = []\n",
    "for i in range(0,len(cities_df['lat'])):\n",
    "    \n",
    "    #API saver for testing\n",
    "    #if i>60:\n",
    "        #break\n",
    "    \n",
    "    \n",
    "    lat = cities_df.iloc[i]['lat']\n",
    "    long = cities_df.iloc[i]['long']\n",
    "    city = citipy.nearest_city(lat,long)\n",
    "    \n",
    "    name = city.city_name\n",
    "    cities_name.append(name)\n",
    "    country = city.country_code\n",
    "    countrycode.append(country)\n",
    "    \n",
    "cities_df['City'] = cities_name\n",
    "cities_df['Country'] = countrycode\n",
    "cities_df.head(10)"
   ]
  },
  {
   "cell_type": "code",
   "execution_count": 4,
   "metadata": {},
   "outputs": [
    {
     "data": {
      "text/html": [
       "<div>\n",
       "<style scoped>\n",
       "    .dataframe tbody tr th:only-of-type {\n",
       "        vertical-align: middle;\n",
       "    }\n",
       "\n",
       "    .dataframe tbody tr th {\n",
       "        vertical-align: top;\n",
       "    }\n",
       "\n",
       "    .dataframe thead th {\n",
       "        text-align: right;\n",
       "    }\n",
       "</style>\n",
       "<table border=\"1\" class=\"dataframe\">\n",
       "  <thead>\n",
       "    <tr style=\"text-align: right;\">\n",
       "      <th></th>\n",
       "      <th>long</th>\n",
       "      <th>lat</th>\n",
       "      <th>City</th>\n",
       "      <th>Country</th>\n",
       "    </tr>\n",
       "  </thead>\n",
       "  <tbody>\n",
       "    <tr>\n",
       "      <th>0</th>\n",
       "      <td>137.364628</td>\n",
       "      <td>-69.991489</td>\n",
       "      <td>hobart</td>\n",
       "      <td>au</td>\n",
       "    </tr>\n",
       "    <tr>\n",
       "      <th>1</th>\n",
       "      <td>69.408120</td>\n",
       "      <td>-39.161338</td>\n",
       "      <td>mahebourg</td>\n",
       "      <td>mu</td>\n",
       "    </tr>\n",
       "    <tr>\n",
       "      <th>2</th>\n",
       "      <td>13.224387</td>\n",
       "      <td>-15.842042</td>\n",
       "      <td>lubango</td>\n",
       "      <td>ao</td>\n",
       "    </tr>\n",
       "    <tr>\n",
       "      <th>3</th>\n",
       "      <td>23.848946</td>\n",
       "      <td>-25.021350</td>\n",
       "      <td>khakhea</td>\n",
       "      <td>bw</td>\n",
       "    </tr>\n",
       "    <tr>\n",
       "      <th>4</th>\n",
       "      <td>139.087753</td>\n",
       "      <td>78.730408</td>\n",
       "      <td>nizhneyansk</td>\n",
       "      <td>ru</td>\n",
       "    </tr>\n",
       "    <tr>\n",
       "      <th>...</th>\n",
       "      <td>...</td>\n",
       "      <td>...</td>\n",
       "      <td>...</td>\n",
       "      <td>...</td>\n",
       "    </tr>\n",
       "    <tr>\n",
       "      <th>495</th>\n",
       "      <td>-51.891178</td>\n",
       "      <td>61.572295</td>\n",
       "      <td>paamiut</td>\n",
       "      <td>gl</td>\n",
       "    </tr>\n",
       "    <tr>\n",
       "      <th>496</th>\n",
       "      <td>-128.597496</td>\n",
       "      <td>50.111890</td>\n",
       "      <td>port hardy</td>\n",
       "      <td>ca</td>\n",
       "    </tr>\n",
       "    <tr>\n",
       "      <th>497</th>\n",
       "      <td>-133.562200</td>\n",
       "      <td>50.142195</td>\n",
       "      <td>prince rupert</td>\n",
       "      <td>ca</td>\n",
       "    </tr>\n",
       "    <tr>\n",
       "      <th>498</th>\n",
       "      <td>-80.725293</td>\n",
       "      <td>11.130483</td>\n",
       "      <td>san andres</td>\n",
       "      <td>co</td>\n",
       "    </tr>\n",
       "    <tr>\n",
       "      <th>499</th>\n",
       "      <td>-71.694879</td>\n",
       "      <td>47.483809</td>\n",
       "      <td>saint-raymond</td>\n",
       "      <td>ca</td>\n",
       "    </tr>\n",
       "  </tbody>\n",
       "</table>\n",
       "<p>500 rows × 4 columns</p>\n",
       "</div>"
      ],
      "text/plain": [
       "           long        lat           City Country\n",
       "0    137.364628 -69.991489         hobart      au\n",
       "1     69.408120 -39.161338      mahebourg      mu\n",
       "2     13.224387 -15.842042        lubango      ao\n",
       "3     23.848946 -25.021350        khakhea      bw\n",
       "4    139.087753  78.730408    nizhneyansk      ru\n",
       "..          ...        ...            ...     ...\n",
       "495  -51.891178  61.572295        paamiut      gl\n",
       "496 -128.597496  50.111890     port hardy      ca\n",
       "497 -133.562200  50.142195  prince rupert      ca\n",
       "498  -80.725293  11.130483     san andres      co\n",
       "499  -71.694879  47.483809  saint-raymond      ca\n",
       "\n",
       "[500 rows x 4 columns]"
      ]
     },
     "execution_count": 4,
     "metadata": {},
     "output_type": "execute_result"
    }
   ],
   "source": [
    "#drop duplicate cities in cities_df\n",
    "cities_copy = cities_df.copy()\n",
    "new_cities = cities_copy.drop_duplicates(\"City\", keep = 'first')\n",
    "\n",
    "#reset cities_df's index and truncate at 499 to provide sample size of 500 random cities.\n",
    "new_cities = new_cities.reset_index(drop = True)\n",
    "new_cities = new_cities.truncate( after=499)\n",
    "new_cities"
   ]
  },
  {
   "cell_type": "code",
   "execution_count": 5,
   "metadata": {},
   "outputs": [
    {
     "data": {
      "text/html": [
       "<div>\n",
       "<style scoped>\n",
       "    .dataframe tbody tr th:only-of-type {\n",
       "        vertical-align: middle;\n",
       "    }\n",
       "\n",
       "    .dataframe tbody tr th {\n",
       "        vertical-align: top;\n",
       "    }\n",
       "\n",
       "    .dataframe thead th {\n",
       "        text-align: right;\n",
       "    }\n",
       "</style>\n",
       "<table border=\"1\" class=\"dataframe\">\n",
       "  <thead>\n",
       "    <tr style=\"text-align: right;\">\n",
       "      <th></th>\n",
       "      <th>long</th>\n",
       "      <th>lat</th>\n",
       "      <th>City</th>\n",
       "      <th>Country</th>\n",
       "      <th>Temp</th>\n",
       "      <th>Humidity</th>\n",
       "      <th>Cloudiness</th>\n",
       "      <th>Wind (mph)</th>\n",
       "    </tr>\n",
       "  </thead>\n",
       "  <tbody>\n",
       "    <tr>\n",
       "      <th>0</th>\n",
       "      <td>137.364628</td>\n",
       "      <td>-69.991489</td>\n",
       "      <td>hobart</td>\n",
       "      <td>au</td>\n",
       "      <td></td>\n",
       "      <td></td>\n",
       "      <td></td>\n",
       "      <td></td>\n",
       "    </tr>\n",
       "    <tr>\n",
       "      <th>1</th>\n",
       "      <td>69.408120</td>\n",
       "      <td>-39.161338</td>\n",
       "      <td>mahebourg</td>\n",
       "      <td>mu</td>\n",
       "      <td></td>\n",
       "      <td></td>\n",
       "      <td></td>\n",
       "      <td></td>\n",
       "    </tr>\n",
       "    <tr>\n",
       "      <th>2</th>\n",
       "      <td>13.224387</td>\n",
       "      <td>-15.842042</td>\n",
       "      <td>lubango</td>\n",
       "      <td>ao</td>\n",
       "      <td></td>\n",
       "      <td></td>\n",
       "      <td></td>\n",
       "      <td></td>\n",
       "    </tr>\n",
       "    <tr>\n",
       "      <th>3</th>\n",
       "      <td>23.848946</td>\n",
       "      <td>-25.021350</td>\n",
       "      <td>khakhea</td>\n",
       "      <td>bw</td>\n",
       "      <td></td>\n",
       "      <td></td>\n",
       "      <td></td>\n",
       "      <td></td>\n",
       "    </tr>\n",
       "    <tr>\n",
       "      <th>4</th>\n",
       "      <td>139.087753</td>\n",
       "      <td>78.730408</td>\n",
       "      <td>nizhneyansk</td>\n",
       "      <td>ru</td>\n",
       "      <td></td>\n",
       "      <td></td>\n",
       "      <td></td>\n",
       "      <td></td>\n",
       "    </tr>\n",
       "    <tr>\n",
       "      <th>...</th>\n",
       "      <td>...</td>\n",
       "      <td>...</td>\n",
       "      <td>...</td>\n",
       "      <td>...</td>\n",
       "      <td>...</td>\n",
       "      <td>...</td>\n",
       "      <td>...</td>\n",
       "      <td>...</td>\n",
       "    </tr>\n",
       "    <tr>\n",
       "      <th>495</th>\n",
       "      <td>-51.891178</td>\n",
       "      <td>61.572295</td>\n",
       "      <td>paamiut</td>\n",
       "      <td>gl</td>\n",
       "      <td></td>\n",
       "      <td></td>\n",
       "      <td></td>\n",
       "      <td></td>\n",
       "    </tr>\n",
       "    <tr>\n",
       "      <th>496</th>\n",
       "      <td>-128.597496</td>\n",
       "      <td>50.111890</td>\n",
       "      <td>port hardy</td>\n",
       "      <td>ca</td>\n",
       "      <td></td>\n",
       "      <td></td>\n",
       "      <td></td>\n",
       "      <td></td>\n",
       "    </tr>\n",
       "    <tr>\n",
       "      <th>497</th>\n",
       "      <td>-133.562200</td>\n",
       "      <td>50.142195</td>\n",
       "      <td>prince rupert</td>\n",
       "      <td>ca</td>\n",
       "      <td></td>\n",
       "      <td></td>\n",
       "      <td></td>\n",
       "      <td></td>\n",
       "    </tr>\n",
       "    <tr>\n",
       "      <th>498</th>\n",
       "      <td>-80.725293</td>\n",
       "      <td>11.130483</td>\n",
       "      <td>san andres</td>\n",
       "      <td>co</td>\n",
       "      <td></td>\n",
       "      <td></td>\n",
       "      <td></td>\n",
       "      <td></td>\n",
       "    </tr>\n",
       "    <tr>\n",
       "      <th>499</th>\n",
       "      <td>-71.694879</td>\n",
       "      <td>47.483809</td>\n",
       "      <td>saint-raymond</td>\n",
       "      <td>ca</td>\n",
       "      <td></td>\n",
       "      <td></td>\n",
       "      <td></td>\n",
       "      <td></td>\n",
       "    </tr>\n",
       "  </tbody>\n",
       "</table>\n",
       "<p>500 rows × 8 columns</p>\n",
       "</div>"
      ],
      "text/plain": [
       "           long        lat           City Country Temp Humidity Cloudiness  \\\n",
       "0    137.364628 -69.991489         hobart      au                            \n",
       "1     69.408120 -39.161338      mahebourg      mu                            \n",
       "2     13.224387 -15.842042        lubango      ao                            \n",
       "3     23.848946 -25.021350        khakhea      bw                            \n",
       "4    139.087753  78.730408    nizhneyansk      ru                            \n",
       "..          ...        ...            ...     ...  ...      ...        ...   \n",
       "495  -51.891178  61.572295        paamiut      gl                            \n",
       "496 -128.597496  50.111890     port hardy      ca                            \n",
       "497 -133.562200  50.142195  prince rupert      ca                            \n",
       "498  -80.725293  11.130483     san andres      co                            \n",
       "499  -71.694879  47.483809  saint-raymond      ca                            \n",
       "\n",
       "    Wind (mph)  \n",
       "0               \n",
       "1               \n",
       "2               \n",
       "3               \n",
       "4               \n",
       "..         ...  \n",
       "495             \n",
       "496             \n",
       "497             \n",
       "498             \n",
       "499             \n",
       "\n",
       "[500 rows x 8 columns]"
      ]
     },
     "execution_count": 5,
     "metadata": {},
     "output_type": "execute_result"
    }
   ],
   "source": [
    "api_key = weather_api_key\n",
    "\n",
    "\n",
    "#Establish columns for data to be used in scatter plots\n",
    "new_cities[\"Temp\"]=\"\"\n",
    "new_cities[\"Humidity\"]=\"\"\n",
    "new_cities[\"Cloudiness\"]=\"\"\n",
    "new_cities[\"Wind (mph)\"]=\"\"\n",
    "new_cities"
   ]
  },
  {
   "cell_type": "markdown",
   "metadata": {},
   "source": [
    "### Perform API Calls\n",
    "* Perform a weather check on each city using a series of successive API calls.\n",
    "* Include a print log of each city as it'sbeing processed (with the city number and city name).\n"
   ]
  },
  {
   "cell_type": "code",
   "execution_count": 6,
   "metadata": {},
   "outputs": [],
   "source": [
    "#Use iterrows() to loop through the new_cities sample size and perform API calls for each "
   ]
  },
  {
   "cell_type": "code",
   "execution_count": 7,
   "metadata": {},
   "outputs": [
    {
     "name": "stdout",
     "output_type": "stream",
     "text": [
      "{'cod': 429, 'message': 'Your account is temporary blocked due to exceeding of requests limitation of your subscription type. Please choose the proper subscription http://openweathermap.org/price'}\n"
     ]
    }
   ],
   "source": [
    "#Test API print/block status\n",
    "\n",
    "target_url=f\"http://api.openweathermap.org/data/2.5/weather?q={new_cities.City[4]}&appid={weather_api_key}\"\n",
    "weather_json = requests.get(target_url).json()\n",
    "print(weather_json)\n"
   ]
  },
  {
   "cell_type": "code",
   "execution_count": null,
   "metadata": {},
   "outputs": [],
   "source": [
    "temp_list = []\n",
    "humid_list = []\n",
    "cloud_list = []\n",
    "wind_list = []\n",
    "\n",
    "for index, row in new_cities.iterrows():\n",
    "    \n",
    "    \n",
    "    #API saver\n",
    "    #if index>60:\n",
    "        #break\n",
    "    \n",
    "    target_url=f\"http://api.openweathermap.org/data/2.5/weather?q={row[2]}&appid={weather_api_key}\"\n",
    "    weather_json = requests.get(target_url).json()\n",
    "    print(f\"Processing Record {index} | {row[2]}\")\n",
    "    \n",
    "    try:\n",
    "        temp_list.append(weather_json[\"main\"][\"temp\"])\n",
    "        humid_list.append(weather_json[\"main\"][\"humidity\"])\n",
    "        cloud_list.append(weather_json[\"clouds\"][\"all\"])\n",
    "        wind_list.append(weather_json[\"wind\"][\"speed\"])\n",
    "        \n",
    "        #add in list appends here for Humidity, Cloudiness, and Wind (mph)\n",
    "      \n",
    "        \n",
    "    except:\n",
    "        temp_list.append(\"\")\n",
    "        humid_list.append(\"\")\n",
    "        cloud_list.append(\"\")\n",
    "        wind_list.append(\"\")\n",
    "        print(\"City not found. Skipping...\")"
   ]
  },
  {
   "cell_type": "code",
   "execution_count": null,
   "metadata": {},
   "outputs": [],
   "source": [
    "print(len(temp_list))\n",
    "print(len(new_cities[\"Temp\"]))"
   ]
  },
  {
   "cell_type": "code",
   "execution_count": null,
   "metadata": {},
   "outputs": [],
   "source": [
    "new_cities[\"Temp\"] = temp_list\n",
    "new_cities[\"Humidity\"] = humid_list\n",
    "new_cities[\"Cloudiness\"] = cloud_list\n",
    "new_cities[\"Wind (mph)\"] = wind_list\n",
    "\n",
    "\n",
    "#print(len(temp_list))\n",
    " \n",
    "\n",
    "def kelv_to_fahr(temp_kelv):\n",
    "    \"\"\"Convert Kelvin to Fahrenheit\n",
    "    \n",
    "    Return Fahrenheit conversion of input\"\"\"\n",
    "    \n",
    "    temp_fahr = (temp_kelv)* 9/5 - 459.67\n",
    "    return temp_fahr\n",
    "\n",
    "\n",
    "#converts the strings to numbers so they can be formatted into fahrenheit\n",
    "#new_cities.dropna() to get rid of the empty variables where data was lacking\n",
    "#or do a reverse loc statement, removing all that has this characteristic - \"NaN\" or \"\" \n",
    "#before numericization\n",
    "\n",
    "#To remove all rows where column 'score' is < 50:\n",
    "#df = df.drop(df[df.score < 50].index)\n",
    "new_cities = new_cities.drop(new_cities[new_cities.Temp == \"\"].index)\n",
    "\n",
    "new_cities = new_cities.reset_index(drop = True)\n",
    "new_cities[\"Temp\"] = pd.to_numeric(new_cities[\"Temp\"])\n",
    "new_cities[\"Temp\"] = kelv_to_fahr(new_cities[\"Temp\"])\n",
    "\n",
    "\n",
    "\n",
    "new_cities"
   ]
  },
  {
   "cell_type": "code",
   "execution_count": null,
   "metadata": {
    "scrolled": true
   },
   "outputs": [],
   "source": []
  },
  {
   "cell_type": "markdown",
   "metadata": {},
   "source": [
    "### Convert Raw Data to DataFrame\n",
    "* Export the city data into a .csv.\n",
    "* Display the DataFrame"
   ]
  },
  {
   "cell_type": "code",
   "execution_count": null,
   "metadata": {},
   "outputs": [],
   "source": [
    "#export dataframe as csv\n",
    "#new_cities is a whole set of data, cleaned up, populated, and sorted together. Any missing cities have been pruned out.\n",
    "#This is the time to save the dataset to a csv for file output. Everything after here will use copies of new_cities or \n",
    "#changes to it.\n",
    "\n",
    "#export save as csv etc\n",
    "new_cities.to_csv('WeatherPy-SampleCities.csv')\n",
    "new_cities.head()"
   ]
  },
  {
   "cell_type": "code",
   "execution_count": null,
   "metadata": {},
   "outputs": [],
   "source": []
  },
  {
   "cell_type": "markdown",
   "metadata": {},
   "source": [
    "## Inspect the data and remove the cities where the humidity > 100%.\n",
    "----\n",
    "Skip this step if there are no cities that have humidity > 100%. "
   ]
  },
  {
   "cell_type": "code",
   "execution_count": null,
   "metadata": {},
   "outputs": [],
   "source": [
    "#To remove all rows where column 'score' is < 50:\n",
    "#df = df.drop(df[df.score < 50].index)\n",
    "\n",
    "new_cities = new_cities.drop(new_cities[new_cities.Humidity > 100].index)\n",
    "new_cities.head()"
   ]
  },
  {
   "cell_type": "markdown",
   "metadata": {},
   "source": [
    "## Plotting the Data\n",
    "* Use proper labeling of the plots using plot titles (including date of analysis) and axes labels.\n",
    "* Save the plotted figures as .pngs."
   ]
  },
  {
   "cell_type": "markdown",
   "metadata": {},
   "source": [
    "## Latitude vs. Temperature Plot"
   ]
  },
  {
   "cell_type": "code",
   "execution_count": null,
   "metadata": {
    "scrolled": true
   },
   "outputs": [],
   "source": [
    "#plt.scatter(x,y,other this and that)\n",
    "x_axis = new_cities[\"lat\"]\n",
    "data = new_cities[\"Temp\"]\n",
    "\n",
    "plt.scatter(x_axis,data,marker=\"o\",facecolors=\"red\",edgecolors=\"black\", alpha=0.75)\n",
    "# Generate latitudes(-90 to 90) \n",
    "plt.title(\"Latitude vs. Temperature\")\n",
    "plt.xlim(-90,90)\n",
    "plt.ylim(20,100)\n",
    "plt.xlabel(\"Latitude\")\n",
    "plt.ylabel(\"Temperature\")\n",
    "plt.grid(True)\n",
    "plt.show()\n",
    "\n",
    "#save as png\n",
    "plt.savefig(\"LatvsTemp.png\")"
   ]
  },
  {
   "cell_type": "markdown",
   "metadata": {},
   "source": [
    "## Latitude vs. Humidity Plot"
   ]
  },
  {
   "cell_type": "code",
   "execution_count": null,
   "metadata": {},
   "outputs": [],
   "source": [
    "#plt.scatter(x,y,other this and that)\n",
    "x_axis = new_cities[\"lat\"]\n",
    "data = new_cities[\"Humidity\"]\n",
    "\n",
    "plt.scatter(x_axis,data,marker=\"o\",facecolors=\"blue\",edgecolors=\"black\", alpha=0.75)\n",
    "# Generate latitudes(-90 to 90) \n",
    "plt.title(\"Latitude vs. Humidity\")\n",
    "plt.xlim(-90,90)\n",
    "plt.ylim(0,100)\n",
    "plt.xlabel(\"Latitude\")\n",
    "plt.ylabel(\"Humidity\")\n",
    "plt.grid(True)\n",
    "plt.show()\n",
    "\n",
    "#save as png\n",
    "plt.savefig(\"LatvsHum.png\")"
   ]
  },
  {
   "cell_type": "markdown",
   "metadata": {},
   "source": [
    "## Latitude vs. Cloudiness Plot"
   ]
  },
  {
   "cell_type": "code",
   "execution_count": null,
   "metadata": {},
   "outputs": [],
   "source": [
    "#plt.scatter(x,y,other this and that)\n",
    "x_axis = new_cities[\"lat\"]\n",
    "data = new_cities[\"Cloudiness\"]\n",
    "\n",
    "plt.scatter(x_axis,data,marker=\"o\",facecolors=\"yellow\",edgecolors=\"black\", alpha=0.75)\n",
    "# Generate latitudes(-90 to 90) \n",
    "plt.title(\"Latitude vs. Cloudiness\")\n",
    "plt.xlim(-90,90)\n",
    "plt.ylim(0,100)\n",
    "plt.xlabel(\"Latitude\")\n",
    "plt.ylabel(\"Cloudiness\")\n",
    "plt.grid(True)\n",
    "plt.show()\n",
    "\n",
    "#save as png\n",
    "plt.savefig(\"LatvsCloud.png\")"
   ]
  },
  {
   "cell_type": "markdown",
   "metadata": {},
   "source": [
    "## Latitude vs. Wind Speed Plot"
   ]
  },
  {
   "cell_type": "code",
   "execution_count": null,
   "metadata": {},
   "outputs": [],
   "source": [
    "#plt.scatter(x,y,other this and that)\n",
    "x_axis = new_cities[\"lat\"]\n",
    "data = new_cities[\"Wind (mph)\"]\n",
    "\n",
    "plt.scatter(x_axis,data,marker=\"o\",facecolors=\"green\",edgecolors=\"black\", alpha=0.75)\n",
    "# Generate latitudes(-90 to 90) \n",
    "plt.title(\"Latitude vs. Wind (mph)\")\n",
    "plt.xlim(-90,90)\n",
    "plt.ylim(0,15)\n",
    "plt.xlabel(\"Latitude\")\n",
    "plt.ylabel(\"Wind (mph)\")\n",
    "plt.grid(True)\n",
    "plt.show()\n",
    "\n",
    "#save as png\n",
    "plt.savefig(\"LatvsWind.png\")"
   ]
  },
  {
   "cell_type": "markdown",
   "metadata": {},
   "source": [
    "## Linear Regression"
   ]
  },
  {
   "cell_type": "code",
   "execution_count": null,
   "metadata": {},
   "outputs": [],
   "source": [
    "#Exactly as above, but need to create two new DFs - north and south - and then just run all the same graphs out of them. Easy."
   ]
  },
  {
   "cell_type": "code",
   "execution_count": null,
   "metadata": {},
   "outputs": [],
   "source": [
    "# split the dataframe into two dataframes, North and South\n",
    "# Your second requirement is to run linear regression on \n",
    "# each relationship, only this time separating them into \n",
    "# Northern Hemisphere (greater than or equal to 0 degrees \n",
    "# latitude) and Southern Hemisphere (less than 0 degrees latitude):\n",
    "\n",
    "#To remove all rows where column 'score' is < 50:\n",
    "#df = df.drop(df[df.score < 50].index)\n",
    "\n",
    "south_df = new_cities.copy()\n",
    "south_df = south_df.drop(south_df[south_df.lat >= 0].index)\n",
    "south_df"
   ]
  },
  {
   "cell_type": "code",
   "execution_count": null,
   "metadata": {},
   "outputs": [],
   "source": [
    "north_df = new_cities.copy()\n",
    "north_df = north_df.drop(north_df[north_df.lat <= 0].index)\n",
    "north_df"
   ]
  },
  {
   "cell_type": "markdown",
   "metadata": {},
   "source": [
    "####  Northern Hemisphere - Max Temp vs. Latitude Linear Regression"
   ]
  },
  {
   "cell_type": "code",
   "execution_count": null,
   "metadata": {},
   "outputs": [],
   "source": [
    "#plt.scatter(x,y,other this and that)\n",
    "x_axis = north_df[\"lat\"]\n",
    "data = north_df[\"Temp\"]\n",
    "\n",
    "plt.scatter(x_axis,data,marker=\"o\",facecolors=\"red\",edgecolors=\"black\", alpha=0.75)\n",
    "# Generate latitudes(-90 to 90) \n",
    "plt.title(\"Latitude vs. Temperature - Northern Hemisphere\")\n",
    "plt.xlim(0,90)\n",
    "plt.ylim(20,100)\n",
    "plt.xlabel(\"Latitude\")\n",
    "plt.ylabel(\"Temperature\")\n",
    "plt.grid(True)\n",
    "##add regression\n",
    "\n",
    "## REGRESSION\n",
    "\n",
    "(slope, intercept, rvalue, pvalue, stderr)=stats.linregress(x_axis,data)\n",
    "regress_values = x_axis*slope+intercept\n",
    "line_eq=\"y= \"+ str(round(slope,2))+\"x+ \" + str(round(intercept,2))\n",
    "plt.plot(x_axis,regress_values,\"r-\")\n",
    "plt.annotate(line_eq,(10,40),fontsize=15,color=\"red\")\n",
    "plt.show()\n",
    "\n",
    "#save as png\n",
    "plt.savefig(\"LatvsTempNorth.png\")"
   ]
  },
  {
   "cell_type": "code",
   "execution_count": null,
   "metadata": {},
   "outputs": [],
   "source": [
    "#ANALYSIS: As latitude goes up, temperature goes down. IE: It gets colder further from the equator."
   ]
  },
  {
   "cell_type": "markdown",
   "metadata": {},
   "source": [
    "####  Southern Hemisphere - Max Temp vs. Latitude Linear Regression"
   ]
  },
  {
   "cell_type": "code",
   "execution_count": null,
   "metadata": {},
   "outputs": [],
   "source": [
    "#plt.scatter(x,y,other this and that)\n",
    "x_axis = south_df[\"lat\"]\n",
    "data = south_df[\"Temp\"]\n",
    "\n",
    "plt.scatter(x_axis,data,marker=\"o\",facecolors=\"red\",edgecolors=\"black\", alpha=0.75)\n",
    "# Generate latitudes(-90 to 90) \n",
    "plt.title(\"Latitude vs. Temperature - Southern Hemisphere\")\n",
    "plt.xlim(-90,0)\n",
    "plt.ylim(20,100)\n",
    "plt.xlabel(\"Latitude\")\n",
    "plt.ylabel(\"Temperature\")\n",
    "plt.grid(True)\n",
    "\n",
    "##add regression\n",
    "\n",
    "## REGRESSION\n",
    "\n",
    "(slope, intercept, rvalue, pvalue, stderr)=stats.linregress(x_axis,data)\n",
    "regress_values = x_axis*slope+intercept\n",
    "line_eq=\"y= \"+ str(round(slope,2))+\"x+ \" + str(round(intercept,2))\n",
    "plt.plot(x_axis,regress_values,\"r-\")\n",
    "plt.annotate(line_eq,(-60,50),fontsize=15,color=\"red\")\n",
    "plt.show()\n",
    "\n",
    "#save as png\n",
    "plt.savefig(\"LatvsTempSouth.png\")"
   ]
  },
  {
   "cell_type": "code",
   "execution_count": null,
   "metadata": {},
   "outputs": [],
   "source": [
    "#ANALYSIS: The lower the latitude past the equator, the colder the temperature gets again. This proves that it is\n",
    "#hotter at the equator."
   ]
  },
  {
   "cell_type": "markdown",
   "metadata": {},
   "source": [
    "####  Northern Hemisphere - Humidity (%) vs. Latitude Linear Regression"
   ]
  },
  {
   "cell_type": "code",
   "execution_count": null,
   "metadata": {},
   "outputs": [],
   "source": [
    "#plt.scatter(x,y,other this and that)\n",
    "x_axis = north_df[\"lat\"]\n",
    "data = north_df[\"Humidity\"]\n",
    "\n",
    "data = data.astype(float)\n",
    "\n",
    "plt.scatter(x_axis,data,marker=\"o\",facecolors=\"blue\",edgecolors=\"black\", alpha=0.75)\n",
    "# Generate latitudes(-90 to 90) \n",
    "plt.title(\"Latitude vs. Humidity - Northern Hemisphere\")\n",
    "plt.xlim(0,90)\n",
    "plt.ylim(0,100)\n",
    "plt.xlabel(\"Latitude\")\n",
    "plt.ylabel(\"Humidity\")\n",
    "plt.grid(True)\n",
    "\n",
    "##add regression\n",
    "#np.cov(label0.astype(float), rowvar=False)\n",
    "\n",
    "## REGRESSION\n",
    "\n",
    "(slope, intercept, rvalue, pvalue, stderr)=stats.linregress(x_axis,data)\n",
    "regress_values = x_axis*slope+intercept\n",
    "line_eq=\"y= \"+ str(round(slope,2))+\"x+ \" + str(round(intercept,2))\n",
    "plt.plot(x_axis,regress_values,\"r-\")\n",
    "plt.annotate(line_eq,(50,50),fontsize=15,color=\"red\")\n",
    "plt.show()\n",
    "\n",
    "#save as png\n",
    "plt.savefig(\"LatvsHumNorth.png\")"
   ]
  },
  {
   "cell_type": "code",
   "execution_count": null,
   "metadata": {},
   "outputs": [],
   "source": [
    "#ANALYSIS: There is only a slight increase in humidity with latitude. \n",
    "#This suggests that there is a weak connection between the two."
   ]
  },
  {
   "cell_type": "markdown",
   "metadata": {},
   "source": [
    "####  Southern Hemisphere - Humidity (%) vs. Latitude Linear Regression"
   ]
  },
  {
   "cell_type": "code",
   "execution_count": null,
   "metadata": {},
   "outputs": [],
   "source": [
    "#plt.scatter(x,y,other this and that)\n",
    "x_axis = south_df[\"lat\"]\n",
    "data = south_df[\"Humidity\"]\n",
    "data = data.astype(float)\n",
    "\n",
    "plt.scatter(x_axis,data,marker=\"o\",facecolors=\"blue\",edgecolors=\"black\", alpha=0.75)\n",
    "# Generate latitudes(-90 to 90) \n",
    "plt.title(\"Latitude vs. Humidity - Southern Hemisphere\")\n",
    "plt.xlim(-90,0)\n",
    "plt.ylim(0,100)\n",
    "plt.xlabel(\"Latitude\")\n",
    "plt.ylabel(\"Humidity\")\n",
    "plt.grid(True)\n",
    "##add regression\n",
    "\n",
    "## REGRESSION\n",
    "\n",
    "(slope, intercept, rvalue, pvalue, stderr)=stats.linregress(x_axis,data)\n",
    "regress_values = x_axis*slope+intercept\n",
    "line_eq=\"y= \"+ str(round(slope,2))+\"x+ \" + str(round(intercept,2))\n",
    "plt.plot(x_axis,regress_values,\"r-\")\n",
    "plt.annotate(line_eq,(-70,40),fontsize=15,color=\"red\")\n",
    "plt.show()\n",
    "\n",
    "plt.savefig(\"LatvsHumSouth.png\")"
   ]
  },
  {
   "cell_type": "code",
   "execution_count": null,
   "metadata": {},
   "outputs": [],
   "source": [
    "#ANALYSIS: There is only a slight increase in humidity with latitude. \n",
    "#This suggests that there is a weak connection between the two."
   ]
  },
  {
   "cell_type": "markdown",
   "metadata": {},
   "source": [
    "####  Northern Hemisphere - Cloudiness (%) vs. Latitude Linear Regression"
   ]
  },
  {
   "cell_type": "code",
   "execution_count": null,
   "metadata": {},
   "outputs": [],
   "source": [
    "#plt.scatter(x,y,other this and that)\n",
    "x_axis = north_df[\"lat\"]\n",
    "data = north_df[\"Cloudiness\"]\n",
    "data = data.astype(float)\n",
    "\n",
    "plt.scatter(x_axis,data,marker=\"o\",facecolors=\"yellow\",edgecolors=\"black\", alpha=0.75)\n",
    "# Generate latitudes(-90 to 90) \n",
    "plt.title(\"Latitude vs. Cloudiness - Northern Hemisphere\")\n",
    "plt.xlim(0,90)\n",
    "plt.ylim(0,100)\n",
    "plt.xlabel(\"Latitude\")\n",
    "plt.ylabel(\"Cloudiness\")\n",
    "plt.grid(True)\n",
    "##add regression\n",
    "\n",
    "## REGRESSION\n",
    "\n",
    "(slope, intercept, rvalue, pvalue, stderr)=stats.linregress(x_axis,data)\n",
    "regress_values = x_axis*slope+intercept\n",
    "line_eq=\"y= \"+ str(round(slope,2))+\"x+ \" + str(round(intercept,2))\n",
    "plt.plot(x_axis,regress_values,\"r-\")\n",
    "plt.annotate(line_eq,(10,40),fontsize=15,color=\"red\")\n",
    "plt.show()\n",
    "#save as png\n",
    "\n",
    "plt.savefig(\"LatvsCloudNorth.png\")"
   ]
  },
  {
   "cell_type": "code",
   "execution_count": null,
   "metadata": {},
   "outputs": [],
   "source": [
    "#ANALYSIS: The data set of cloudiness is incredibly varied, suggesting\n",
    "#there is very little connection between latitude and cloud cover."
   ]
  },
  {
   "cell_type": "markdown",
   "metadata": {},
   "source": [
    "####  Southern Hemisphere - Cloudiness (%) vs. Latitude Linear Regression"
   ]
  },
  {
   "cell_type": "code",
   "execution_count": null,
   "metadata": {},
   "outputs": [],
   "source": [
    "#plt.scatter(x,y,other this and that)\n",
    "x_axis = south_df[\"lat\"]\n",
    "data = south_df[\"Cloudiness\"]\n",
    "data = data.astype(float)\n",
    "\n",
    "plt.scatter(x_axis,data,marker=\"o\",facecolors=\"yellow\",edgecolors=\"black\", alpha=0.75)\n",
    "# Generate latitudes(-90 to 90) \n",
    "plt.title(\"Latitude vs. Cloudiness - Southern Hemisphere\")\n",
    "plt.xlim(-90,0)\n",
    "plt.ylim(0,100)\n",
    "plt.xlabel(\"Latitude\")\n",
    "plt.ylabel(\"Cloudiness\")\n",
    "plt.grid(True)\n",
    "##add regression\n",
    "\n",
    "## REGRESSION\n",
    "\n",
    "(slope, intercept, rvalue, pvalue, stderr)=stats.linregress(x_axis,data)\n",
    "regress_values = x_axis*slope+intercept\n",
    "line_eq=\"y= \"+ str(round(slope,2))+\"x+ \" + str(round(intercept,2))\n",
    "plt.plot(x_axis,regress_values,\"r-\")\n",
    "plt.annotate(line_eq,(-70,40),fontsize=15,color=\"red\")\n",
    "plt.show()\n",
    "\n",
    "#save as png\n",
    "plt.savefig(\"LatvsCloudSouth.png\")"
   ]
  },
  {
   "cell_type": "code",
   "execution_count": null,
   "metadata": {},
   "outputs": [],
   "source": [
    "#ANALYSIS: The data set of cloudiness is incredibly varied, suggesting\n",
    "#there is very little connection between latitude and cloud cover."
   ]
  },
  {
   "cell_type": "markdown",
   "metadata": {},
   "source": [
    "####  Northern Hemisphere - Wind Speed (mph) vs. Latitude Linear Regression"
   ]
  },
  {
   "cell_type": "code",
   "execution_count": null,
   "metadata": {},
   "outputs": [],
   "source": [
    "#plt.scatter(x,y,other this and that)\n",
    "x_axis = north_df[\"lat\"]\n",
    "data = north_df[\"Wind (mph)\"]\n",
    "data = data.astype(float)\n",
    "\n",
    "plt.scatter(x_axis,data,marker=\"o\",facecolors=\"green\",edgecolors=\"black\", alpha=0.75)\n",
    "# Generate latitudes(-90 to 90) \n",
    "plt.title(\"Latitude vs. Wind (mph) - Northern Hemisphere\")\n",
    "plt.xlim(0,90)\n",
    "plt.ylim(0,15)\n",
    "plt.xlabel(\"Latitude\")\n",
    "plt.ylabel(\"Wind (mph)\")\n",
    "plt.grid(True)\n",
    "##add regression\n",
    "\n",
    "## REGRESSION\n",
    "\n",
    "(slope, intercept, rvalue, pvalue, stderr)=stats.linregress(x_axis,data)\n",
    "regress_values = x_axis*slope+intercept\n",
    "line_eq=\"y= \"+ str(round(slope,2))+\"x+ \" + str(round(intercept,2))\n",
    "plt.plot(x_axis,regress_values,\"r-\")\n",
    "plt.annotate(line_eq,(20,8),fontsize=15,color=\"red\")\n",
    "plt.show()\n",
    "\n",
    "#save as png\n",
    "plt.savefig(\"LatvsWindNorth.png\")"
   ]
  },
  {
   "cell_type": "code",
   "execution_count": null,
   "metadata": {},
   "outputs": [],
   "source": [
    "#ANALYSIS: The data for wind speed at latitude does not have\n",
    "#a very convincing regression line and suggests that there isn't much of a connection."
   ]
  },
  {
   "cell_type": "markdown",
   "metadata": {},
   "source": [
    "####  Southern Hemisphere - Wind Speed (mph) vs. Latitude Linear Regression"
   ]
  },
  {
   "cell_type": "code",
   "execution_count": null,
   "metadata": {},
   "outputs": [],
   "source": [
    "#plt.scatter(x,y,other this and that)\n",
    "x_axis = south_df[\"lat\"]\n",
    "data = south_df[\"Wind (mph)\"]\n",
    "data = data.astype(float)\n",
    "\n",
    "plt.scatter(x_axis,data,marker=\"o\",facecolors=\"green\",edgecolors=\"black\", alpha=0.75)\n",
    "# Generate latitudes(-90 to 90) \n",
    "plt.title(\"Latitude vs. Wind (mph) - Southern Hemisphere\")\n",
    "plt.xlim(-90,0)\n",
    "plt.ylim(0,15)\n",
    "plt.xlabel(\"Latitude\")\n",
    "plt.ylabel(\"Wind (mph)\")\n",
    "plt.grid(True)\n",
    "\n",
    "##add regression\n",
    "\n",
    "## REGRESSION\n",
    "\n",
    "(slope, intercept, rvalue, pvalue, stderr)=stats.linregress(x_axis,data)\n",
    "regress_values = x_axis*slope+intercept\n",
    "line_eq=\"y= \"+ str(round(slope,2))+\"x+ \" + str(round(intercept,2))\n",
    "plt.plot(x_axis,regress_values,\"r-\")\n",
    "plt.annotate(line_eq,(-60,6),fontsize=15,color=\"red\")\n",
    "plt.show()\n",
    "\n",
    "#save as png\n",
    "plt.savefig(\"LatvsWindSouth.png\")"
   ]
  },
  {
   "cell_type": "code",
   "execution_count": null,
   "metadata": {},
   "outputs": [],
   "source": [
    "#ANALYSIS: The data for wind speed at latitude does not have\n",
    "#a very convincing regression line and suggests that there isn't much of a connection."
   ]
  },
  {
   "cell_type": "code",
   "execution_count": null,
   "metadata": {},
   "outputs": [],
   "source": []
  },
  {
   "cell_type": "code",
   "execution_count": null,
   "metadata": {},
   "outputs": [],
   "source": []
  }
 ],
 "metadata": {
  "anaconda-cloud": {},
  "kernel_info": {
   "name": "python3"
  },
  "kernelspec": {
   "display_name": "Python 3",
   "language": "python",
   "name": "python3"
  },
  "language_info": {
   "codemirror_mode": {
    "name": "ipython",
    "version": 3
   },
   "file_extension": ".py",
   "mimetype": "text/x-python",
   "name": "python",
   "nbconvert_exporter": "python",
   "pygments_lexer": "ipython3",
   "version": "3.7.6"
  },
  "latex_envs": {
   "LaTeX_envs_menu_present": true,
   "autoclose": false,
   "autocomplete": true,
   "bibliofile": "biblio.bib",
   "cite_by": "apalike",
   "current_citInitial": 1,
   "eqLabelWithNumbers": true,
   "eqNumInitial": 1,
   "hotkeys": {
    "equation": "Ctrl-E",
    "itemize": "Ctrl-I"
   },
   "labels_anchors": false,
   "latex_user_defs": false,
   "report_style_numbering": false,
   "user_envs_cfg": false
  },
  "nteract": {
   "version": "0.12.3"
  }
 },
 "nbformat": 4,
 "nbformat_minor": 2
}
