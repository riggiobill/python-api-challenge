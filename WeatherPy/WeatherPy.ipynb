{
 "cells": [
  {
   "cell_type": "markdown",
   "metadata": {},
   "source": [
    "# WeatherPy\n",
    "----\n",
    "\n",
    "#### Note\n",
    "* Instructions have been included for each segment. You do not have to follow them exactly, but they are included to help you think through the steps."
   ]
  },
  {
   "cell_type": "code",
   "execution_count": 1,
   "metadata": {},
   "outputs": [],
   "source": [
    "import pandas as pd\n",
    "import numpy as np\n",
    "import requests\n",
    "import json\n",
    "import matplotlib.pyplot as plt\n",
    "\n",
    "from api_keys import weather_api_key\n",
    "from citipy import citipy"
   ]
  },
  {
   "cell_type": "code",
   "execution_count": 2,
   "metadata": {
    "scrolled": true
   },
   "outputs": [
    {
     "data": {
      "text/html": [
       "<div>\n",
       "<style scoped>\n",
       "    .dataframe tbody tr th:only-of-type {\n",
       "        vertical-align: middle;\n",
       "    }\n",
       "\n",
       "    .dataframe tbody tr th {\n",
       "        vertical-align: top;\n",
       "    }\n",
       "\n",
       "    .dataframe thead th {\n",
       "        text-align: right;\n",
       "    }\n",
       "</style>\n",
       "<table border=\"1\" class=\"dataframe\">\n",
       "  <thead>\n",
       "    <tr style=\"text-align: right;\">\n",
       "      <th></th>\n",
       "      <th>long</th>\n",
       "      <th>lat</th>\n",
       "    </tr>\n",
       "  </thead>\n",
       "  <tbody>\n",
       "    <tr>\n",
       "      <th>0</th>\n",
       "      <td>-65.473665</td>\n",
       "      <td>-19.117666</td>\n",
       "    </tr>\n",
       "    <tr>\n",
       "      <th>1</th>\n",
       "      <td>172.555839</td>\n",
       "      <td>21.238893</td>\n",
       "    </tr>\n",
       "    <tr>\n",
       "      <th>2</th>\n",
       "      <td>111.287716</td>\n",
       "      <td>16.483843</td>\n",
       "    </tr>\n",
       "    <tr>\n",
       "      <th>3</th>\n",
       "      <td>-66.431865</td>\n",
       "      <td>76.559592</td>\n",
       "    </tr>\n",
       "    <tr>\n",
       "      <th>4</th>\n",
       "      <td>154.534455</td>\n",
       "      <td>-23.195961</td>\n",
       "    </tr>\n",
       "  </tbody>\n",
       "</table>\n",
       "</div>"
      ],
      "text/plain": [
       "         long        lat\n",
       "0  -65.473665 -19.117666\n",
       "1  172.555839  21.238893\n",
       "2  111.287716  16.483843\n",
       "3  -66.431865  76.559592\n",
       "4  154.534455 -23.195961"
      ]
     },
     "execution_count": 2,
     "metadata": {},
     "output_type": "execute_result"
    }
   ],
   "source": [
    "\n",
    "#Casts a dataframe with two very long sets of random numbers formatted for use as random lat/long coordinates\n",
    "cities_df = pd.DataFrame({\"long\":(np.random.uniform(-1.8,1.8,1200)*100), \"lat\":(np.random.uniform(-0.9,0.9,1200)*100)})\n",
    "\n",
    "####\n",
    "#### API SAVER\n",
    "####\n",
    "cities_df = cities_df.truncate(after = 9)\n",
    "\n",
    "\n",
    "cities_df.head()\n",
    "\n",
    "#city = citipy.nearest_city(22.99,120.21)\n",
    "#city.country_code"
   ]
  },
  {
   "cell_type": "markdown",
   "metadata": {},
   "source": [
    "## Generate Cities List"
   ]
  },
  {
   "cell_type": "code",
   "execution_count": 3,
   "metadata": {},
   "outputs": [
    {
     "data": {
      "text/html": [
       "<div>\n",
       "<style scoped>\n",
       "    .dataframe tbody tr th:only-of-type {\n",
       "        vertical-align: middle;\n",
       "    }\n",
       "\n",
       "    .dataframe tbody tr th {\n",
       "        vertical-align: top;\n",
       "    }\n",
       "\n",
       "    .dataframe thead th {\n",
       "        text-align: right;\n",
       "    }\n",
       "</style>\n",
       "<table border=\"1\" class=\"dataframe\">\n",
       "  <thead>\n",
       "    <tr style=\"text-align: right;\">\n",
       "      <th></th>\n",
       "      <th>long</th>\n",
       "      <th>lat</th>\n",
       "      <th>City</th>\n",
       "      <th>Country</th>\n",
       "    </tr>\n",
       "  </thead>\n",
       "  <tbody>\n",
       "    <tr>\n",
       "      <th>0</th>\n",
       "      <td>-65.473665</td>\n",
       "      <td>-19.117666</td>\n",
       "      <td>sucre</td>\n",
       "      <td>bo</td>\n",
       "    </tr>\n",
       "    <tr>\n",
       "      <th>1</th>\n",
       "      <td>172.555839</td>\n",
       "      <td>21.238893</td>\n",
       "      <td>butaritari</td>\n",
       "      <td>ki</td>\n",
       "    </tr>\n",
       "    <tr>\n",
       "      <th>2</th>\n",
       "      <td>111.287716</td>\n",
       "      <td>16.483843</td>\n",
       "      <td>wanning</td>\n",
       "      <td>cn</td>\n",
       "    </tr>\n",
       "    <tr>\n",
       "      <th>3</th>\n",
       "      <td>-66.431865</td>\n",
       "      <td>76.559592</td>\n",
       "      <td>narsaq</td>\n",
       "      <td>gl</td>\n",
       "    </tr>\n",
       "    <tr>\n",
       "      <th>4</th>\n",
       "      <td>154.534455</td>\n",
       "      <td>-23.195961</td>\n",
       "      <td>hervey bay</td>\n",
       "      <td>au</td>\n",
       "    </tr>\n",
       "    <tr>\n",
       "      <th>5</th>\n",
       "      <td>-56.804168</td>\n",
       "      <td>76.366524</td>\n",
       "      <td>upernavik</td>\n",
       "      <td>gl</td>\n",
       "    </tr>\n",
       "    <tr>\n",
       "      <th>6</th>\n",
       "      <td>-115.793113</td>\n",
       "      <td>-64.203493</td>\n",
       "      <td>rikitea</td>\n",
       "      <td>pf</td>\n",
       "    </tr>\n",
       "    <tr>\n",
       "      <th>7</th>\n",
       "      <td>-25.932298</td>\n",
       "      <td>-63.089003</td>\n",
       "      <td>chuy</td>\n",
       "      <td>uy</td>\n",
       "    </tr>\n",
       "    <tr>\n",
       "      <th>8</th>\n",
       "      <td>-77.525884</td>\n",
       "      <td>-70.933210</td>\n",
       "      <td>ushuaia</td>\n",
       "      <td>ar</td>\n",
       "    </tr>\n",
       "    <tr>\n",
       "      <th>9</th>\n",
       "      <td>9.913809</td>\n",
       "      <td>7.064537</td>\n",
       "      <td>wum</td>\n",
       "      <td>cm</td>\n",
       "    </tr>\n",
       "  </tbody>\n",
       "</table>\n",
       "</div>"
      ],
      "text/plain": [
       "         long        lat        City Country\n",
       "0  -65.473665 -19.117666       sucre      bo\n",
       "1  172.555839  21.238893  butaritari      ki\n",
       "2  111.287716  16.483843     wanning      cn\n",
       "3  -66.431865  76.559592      narsaq      gl\n",
       "4  154.534455 -23.195961  hervey bay      au\n",
       "5  -56.804168  76.366524   upernavik      gl\n",
       "6 -115.793113 -64.203493     rikitea      pf\n",
       "7  -25.932298 -63.089003        chuy      uy\n",
       "8  -77.525884 -70.933210     ushuaia      ar\n",
       "9    9.913809   7.064537         wum      cm"
      ]
     },
     "execution_count": 3,
     "metadata": {},
     "output_type": "execute_result"
    }
   ],
   "source": [
    "cities_name = []\n",
    "countrycode = []\n",
    "for i in range(0,len(cities_df['lat'])):\n",
    "    \n",
    "    #API saver\n",
    "    if i>10:\n",
    "        break\n",
    "    \n",
    "    \n",
    "    lat = cities_df.iloc[i]['lat']\n",
    "    long = cities_df.iloc[i]['long']\n",
    "    city = citipy.nearest_city(lat,long)\n",
    "    \n",
    "    name = city.city_name\n",
    "    cities_name.append(name)\n",
    "    country = city.country_code\n",
    "    countrycode.append(country)\n",
    "    \n",
    "cities_df['City'] = cities_name\n",
    "cities_df['Country'] = countrycode\n",
    "cities_df.head(10)"
   ]
  },
  {
   "cell_type": "code",
   "execution_count": 4,
   "metadata": {},
   "outputs": [
    {
     "data": {
      "text/html": [
       "<div>\n",
       "<style scoped>\n",
       "    .dataframe tbody tr th:only-of-type {\n",
       "        vertical-align: middle;\n",
       "    }\n",
       "\n",
       "    .dataframe tbody tr th {\n",
       "        vertical-align: top;\n",
       "    }\n",
       "\n",
       "    .dataframe thead th {\n",
       "        text-align: right;\n",
       "    }\n",
       "</style>\n",
       "<table border=\"1\" class=\"dataframe\">\n",
       "  <thead>\n",
       "    <tr style=\"text-align: right;\">\n",
       "      <th></th>\n",
       "      <th>index</th>\n",
       "      <th>long</th>\n",
       "      <th>lat</th>\n",
       "      <th>City</th>\n",
       "      <th>Country</th>\n",
       "    </tr>\n",
       "  </thead>\n",
       "  <tbody>\n",
       "    <tr>\n",
       "      <th>0</th>\n",
       "      <td>0</td>\n",
       "      <td>-65.473665</td>\n",
       "      <td>-19.117666</td>\n",
       "      <td>sucre</td>\n",
       "      <td>bo</td>\n",
       "    </tr>\n",
       "    <tr>\n",
       "      <th>1</th>\n",
       "      <td>1</td>\n",
       "      <td>172.555839</td>\n",
       "      <td>21.238893</td>\n",
       "      <td>butaritari</td>\n",
       "      <td>ki</td>\n",
       "    </tr>\n",
       "    <tr>\n",
       "      <th>2</th>\n",
       "      <td>2</td>\n",
       "      <td>111.287716</td>\n",
       "      <td>16.483843</td>\n",
       "      <td>wanning</td>\n",
       "      <td>cn</td>\n",
       "    </tr>\n",
       "    <tr>\n",
       "      <th>3</th>\n",
       "      <td>3</td>\n",
       "      <td>-66.431865</td>\n",
       "      <td>76.559592</td>\n",
       "      <td>narsaq</td>\n",
       "      <td>gl</td>\n",
       "    </tr>\n",
       "    <tr>\n",
       "      <th>4</th>\n",
       "      <td>4</td>\n",
       "      <td>154.534455</td>\n",
       "      <td>-23.195961</td>\n",
       "      <td>hervey bay</td>\n",
       "      <td>au</td>\n",
       "    </tr>\n",
       "    <tr>\n",
       "      <th>5</th>\n",
       "      <td>5</td>\n",
       "      <td>-56.804168</td>\n",
       "      <td>76.366524</td>\n",
       "      <td>upernavik</td>\n",
       "      <td>gl</td>\n",
       "    </tr>\n",
       "    <tr>\n",
       "      <th>6</th>\n",
       "      <td>6</td>\n",
       "      <td>-115.793113</td>\n",
       "      <td>-64.203493</td>\n",
       "      <td>rikitea</td>\n",
       "      <td>pf</td>\n",
       "    </tr>\n",
       "    <tr>\n",
       "      <th>7</th>\n",
       "      <td>7</td>\n",
       "      <td>-25.932298</td>\n",
       "      <td>-63.089003</td>\n",
       "      <td>chuy</td>\n",
       "      <td>uy</td>\n",
       "    </tr>\n",
       "    <tr>\n",
       "      <th>8</th>\n",
       "      <td>8</td>\n",
       "      <td>-77.525884</td>\n",
       "      <td>-70.933210</td>\n",
       "      <td>ushuaia</td>\n",
       "      <td>ar</td>\n",
       "    </tr>\n",
       "    <tr>\n",
       "      <th>9</th>\n",
       "      <td>9</td>\n",
       "      <td>9.913809</td>\n",
       "      <td>7.064537</td>\n",
       "      <td>wum</td>\n",
       "      <td>cm</td>\n",
       "    </tr>\n",
       "  </tbody>\n",
       "</table>\n",
       "</div>"
      ],
      "text/plain": [
       "   index        long        lat        City Country\n",
       "0      0  -65.473665 -19.117666       sucre      bo\n",
       "1      1  172.555839  21.238893  butaritari      ki\n",
       "2      2  111.287716  16.483843     wanning      cn\n",
       "3      3  -66.431865  76.559592      narsaq      gl\n",
       "4      4  154.534455 -23.195961  hervey bay      au\n",
       "5      5  -56.804168  76.366524   upernavik      gl\n",
       "6      6 -115.793113 -64.203493     rikitea      pf\n",
       "7      7  -25.932298 -63.089003        chuy      uy\n",
       "8      8  -77.525884 -70.933210     ushuaia      ar\n",
       "9      9    9.913809   7.064537         wum      cm"
      ]
     },
     "execution_count": 4,
     "metadata": {},
     "output_type": "execute_result"
    }
   ],
   "source": [
    "#drop duplicate cities in cities_df\n",
    "cities_copy = cities_df.copy()\n",
    "new_cities = cities_copy.drop_duplicates(\"City\", keep = 'first')\n",
    "\n",
    "#reset cities_df's index and truncate at 499 to provide sample size of 500 random cities.\n",
    "new_cities = new_cities.reset_index()\n",
    "new_cities = new_cities.truncate( after=499)\n",
    "new_cities"
   ]
  },
  {
   "cell_type": "code",
   "execution_count": 5,
   "metadata": {},
   "outputs": [
    {
     "data": {
      "text/html": [
       "<div>\n",
       "<style scoped>\n",
       "    .dataframe tbody tr th:only-of-type {\n",
       "        vertical-align: middle;\n",
       "    }\n",
       "\n",
       "    .dataframe tbody tr th {\n",
       "        vertical-align: top;\n",
       "    }\n",
       "\n",
       "    .dataframe thead th {\n",
       "        text-align: right;\n",
       "    }\n",
       "</style>\n",
       "<table border=\"1\" class=\"dataframe\">\n",
       "  <thead>\n",
       "    <tr style=\"text-align: right;\">\n",
       "      <th></th>\n",
       "      <th>index</th>\n",
       "      <th>long</th>\n",
       "      <th>lat</th>\n",
       "      <th>City</th>\n",
       "      <th>Country</th>\n",
       "      <th>Temp</th>\n",
       "      <th>Humidity</th>\n",
       "      <th>Cloudiness</th>\n",
       "      <th>Wind (mph)</th>\n",
       "    </tr>\n",
       "  </thead>\n",
       "  <tbody>\n",
       "    <tr>\n",
       "      <th>0</th>\n",
       "      <td>0</td>\n",
       "      <td>-65.473665</td>\n",
       "      <td>-19.117666</td>\n",
       "      <td>sucre</td>\n",
       "      <td>bo</td>\n",
       "      <td></td>\n",
       "      <td></td>\n",
       "      <td></td>\n",
       "      <td></td>\n",
       "    </tr>\n",
       "    <tr>\n",
       "      <th>1</th>\n",
       "      <td>1</td>\n",
       "      <td>172.555839</td>\n",
       "      <td>21.238893</td>\n",
       "      <td>butaritari</td>\n",
       "      <td>ki</td>\n",
       "      <td></td>\n",
       "      <td></td>\n",
       "      <td></td>\n",
       "      <td></td>\n",
       "    </tr>\n",
       "    <tr>\n",
       "      <th>2</th>\n",
       "      <td>2</td>\n",
       "      <td>111.287716</td>\n",
       "      <td>16.483843</td>\n",
       "      <td>wanning</td>\n",
       "      <td>cn</td>\n",
       "      <td></td>\n",
       "      <td></td>\n",
       "      <td></td>\n",
       "      <td></td>\n",
       "    </tr>\n",
       "    <tr>\n",
       "      <th>3</th>\n",
       "      <td>3</td>\n",
       "      <td>-66.431865</td>\n",
       "      <td>76.559592</td>\n",
       "      <td>narsaq</td>\n",
       "      <td>gl</td>\n",
       "      <td></td>\n",
       "      <td></td>\n",
       "      <td></td>\n",
       "      <td></td>\n",
       "    </tr>\n",
       "    <tr>\n",
       "      <th>4</th>\n",
       "      <td>4</td>\n",
       "      <td>154.534455</td>\n",
       "      <td>-23.195961</td>\n",
       "      <td>hervey bay</td>\n",
       "      <td>au</td>\n",
       "      <td></td>\n",
       "      <td></td>\n",
       "      <td></td>\n",
       "      <td></td>\n",
       "    </tr>\n",
       "    <tr>\n",
       "      <th>5</th>\n",
       "      <td>5</td>\n",
       "      <td>-56.804168</td>\n",
       "      <td>76.366524</td>\n",
       "      <td>upernavik</td>\n",
       "      <td>gl</td>\n",
       "      <td></td>\n",
       "      <td></td>\n",
       "      <td></td>\n",
       "      <td></td>\n",
       "    </tr>\n",
       "    <tr>\n",
       "      <th>6</th>\n",
       "      <td>6</td>\n",
       "      <td>-115.793113</td>\n",
       "      <td>-64.203493</td>\n",
       "      <td>rikitea</td>\n",
       "      <td>pf</td>\n",
       "      <td></td>\n",
       "      <td></td>\n",
       "      <td></td>\n",
       "      <td></td>\n",
       "    </tr>\n",
       "    <tr>\n",
       "      <th>7</th>\n",
       "      <td>7</td>\n",
       "      <td>-25.932298</td>\n",
       "      <td>-63.089003</td>\n",
       "      <td>chuy</td>\n",
       "      <td>uy</td>\n",
       "      <td></td>\n",
       "      <td></td>\n",
       "      <td></td>\n",
       "      <td></td>\n",
       "    </tr>\n",
       "    <tr>\n",
       "      <th>8</th>\n",
       "      <td>8</td>\n",
       "      <td>-77.525884</td>\n",
       "      <td>-70.933210</td>\n",
       "      <td>ushuaia</td>\n",
       "      <td>ar</td>\n",
       "      <td></td>\n",
       "      <td></td>\n",
       "      <td></td>\n",
       "      <td></td>\n",
       "    </tr>\n",
       "    <tr>\n",
       "      <th>9</th>\n",
       "      <td>9</td>\n",
       "      <td>9.913809</td>\n",
       "      <td>7.064537</td>\n",
       "      <td>wum</td>\n",
       "      <td>cm</td>\n",
       "      <td></td>\n",
       "      <td></td>\n",
       "      <td></td>\n",
       "      <td></td>\n",
       "    </tr>\n",
       "  </tbody>\n",
       "</table>\n",
       "</div>"
      ],
      "text/plain": [
       "   index        long        lat        City Country Temp Humidity Cloudiness  \\\n",
       "0      0  -65.473665 -19.117666       sucre      bo                            \n",
       "1      1  172.555839  21.238893  butaritari      ki                            \n",
       "2      2  111.287716  16.483843     wanning      cn                            \n",
       "3      3  -66.431865  76.559592      narsaq      gl                            \n",
       "4      4  154.534455 -23.195961  hervey bay      au                            \n",
       "5      5  -56.804168  76.366524   upernavik      gl                            \n",
       "6      6 -115.793113 -64.203493     rikitea      pf                            \n",
       "7      7  -25.932298 -63.089003        chuy      uy                            \n",
       "8      8  -77.525884 -70.933210     ushuaia      ar                            \n",
       "9      9    9.913809   7.064537         wum      cm                            \n",
       "\n",
       "  Wind (mph)  \n",
       "0             \n",
       "1             \n",
       "2             \n",
       "3             \n",
       "4             \n",
       "5             \n",
       "6             \n",
       "7             \n",
       "8             \n",
       "9             "
      ]
     },
     "execution_count": 5,
     "metadata": {},
     "output_type": "execute_result"
    }
   ],
   "source": [
    "api_key = weather_api_key\n",
    "\n",
    "\n",
    "#Establish columns for data to be used in scatter plots\n",
    "new_cities[\"Temp\"]=\"\"\n",
    "new_cities[\"Humidity\"]=\"\"\n",
    "new_cities[\"Cloudiness\"]=\"\"\n",
    "new_cities[\"Wind (mph)\"]=\"\"\n",
    "new_cities.head(10)"
   ]
  },
  {
   "cell_type": "markdown",
   "metadata": {},
   "source": [
    "### Perform API Calls\n",
    "* Perform a weather check on each city using a series of successive API calls.\n",
    "* Include a print log of each city as it'sbeing processed (with the city number and city name).\n"
   ]
  },
  {
   "cell_type": "code",
   "execution_count": 6,
   "metadata": {},
   "outputs": [],
   "source": [
    "#Use iterrows() to loop through the new_cities sample size and perform API calls for each "
   ]
  },
  {
   "cell_type": "code",
   "execution_count": 14,
   "metadata": {},
   "outputs": [
    {
     "name": "stdout",
     "output_type": "stream",
     "text": [
      "{'coord': {'lon': 152.85, 'lat': -25.3}, 'weather': [{'id': 500, 'main': 'Rain', 'description': 'light rain', 'icon': '10d'}], 'base': 'stations', 'main': {'temp': 289.26, 'feels_like': 289.61, 'temp_min': 289.26, 'temp_max': 289.26, 'pressure': 1017, 'humidity': 93}, 'visibility': 10000, 'wind': {'speed': 1.79, 'deg': 202, 'gust': 2.68}, 'rain': {'1h': 0.86}, 'clouds': {'all': 82}, 'dt': 1599770278, 'sys': {'type': 3, 'id': 2032484, 'country': 'AU', 'sunrise': 1599767422, 'sunset': 1599810030}, 'timezone': 36000, 'id': 2146219, 'name': 'Hervey Bay', 'cod': 200}\n"
     ]
    }
   ],
   "source": [
    "#Test API block status\n",
    "\n",
    "target_url=f\"http://api.openweathermap.org/data/2.5/weather?q={new_cities.City[4]}&appid={weather_api_key}\"\n",
    "weather_json = requests.get(target_url).json()\n",
    "print(weather_json)\n",
    "#print(weather_api_key)\n",
    "#print(\"       \")\n",
    "#print(\"       \")\n",
    "#print(weather_json[\"main\"][\"temp\"])\n",
    "\n",
    "\n",
    "#temp_list.append(weather_json[\"main\"][\"temp\"])\n",
    "#print(temp_list)"
   ]
  },
  {
   "cell_type": "code",
   "execution_count": 12,
   "metadata": {},
   "outputs": [
    {
     "name": "stdout",
     "output_type": "stream",
     "text": [
      "Processing Record 0 | sucre\n",
      "Processing Record 1 | butaritari\n",
      "Processing Record 2 | wanning\n",
      "Processing Record 3 | narsaq\n",
      "Processing Record 4 | hervey bay\n",
      "Processing Record 5 | upernavik\n",
      "Processing Record 6 | rikitea\n",
      "Processing Record 7 | chuy\n",
      "Processing Record 8 | ushuaia\n",
      "Processing Record 9 | wum\n"
     ]
    }
   ],
   "source": [
    "temp_list = []\n",
    "humid_list = []\n",
    "cloud_list = []\n",
    "wind_list = []\n",
    "\n",
    "for index, row in new_cities.iterrows():\n",
    "    \n",
    "    \n",
    "    #API saver\n",
    "    if index>10:\n",
    "        break\n",
    "    \n",
    "    target_url=f\"http://api.openweathermap.org/data/2.5/weather?q={row[3]}&appid={weather_api_key}\"\n",
    "    weather_json = requests.get(target_url).json()\n",
    "    print(f\"Processing Record {index} | {row[3]}\")\n",
    "    \n",
    "    try:\n",
    "        #new_cities.set_value(index, \"Temp\", weather_json[\"main\"][\"temp\"])\n",
    "        temp_list.append(weather_json[\"main\"][\"temp\"])\n",
    "        humid_list.append(weather_json[\"main\"][\"humidity\"])\n",
    "        cloud_list.append(weather_json[\"clouds\"][\"all\"])\n",
    "        wind_list.append(weather_json[\"wind\"][\"speed\"])\n",
    "        \n",
    "        \n",
    "        #add in list appends here for Humidity, Cloudiness, and Wind (mph)\n",
    "        \n",
    "        \n",
    "        \n",
    "        \n",
    "        #new_cities.set_value(index, \"Humidity\", weather_json[\"main\"][\"humidity\"])\n",
    "        #new_cities.set_value(index, \"Cloudiness\", weather_json[\"clouds\"][\"all\"])\n",
    "        #new_cities.set_value(index, \"Wind (mph)\", weather_json[\"wind\"][\"speed\"])\n",
    "        \n",
    "    except:\n",
    "        temp_list.append(\"\")\n",
    "        humid_list = (\"\")\n",
    "        cloud_list = (\"\")\n",
    "        wind_list = (\"\")\n",
    "        print(\"City not found. Skipping...\")"
   ]
  },
  {
   "cell_type": "code",
   "execution_count": 13,
   "metadata": {},
   "outputs": [
    {
     "data": {
      "text/html": [
       "<div>\n",
       "<style scoped>\n",
       "    .dataframe tbody tr th:only-of-type {\n",
       "        vertical-align: middle;\n",
       "    }\n",
       "\n",
       "    .dataframe tbody tr th {\n",
       "        vertical-align: top;\n",
       "    }\n",
       "\n",
       "    .dataframe thead th {\n",
       "        text-align: right;\n",
       "    }\n",
       "</style>\n",
       "<table border=\"1\" class=\"dataframe\">\n",
       "  <thead>\n",
       "    <tr style=\"text-align: right;\">\n",
       "      <th></th>\n",
       "      <th>index</th>\n",
       "      <th>long</th>\n",
       "      <th>lat</th>\n",
       "      <th>City</th>\n",
       "      <th>Country</th>\n",
       "      <th>Temp</th>\n",
       "      <th>Humidity</th>\n",
       "      <th>Cloudiness</th>\n",
       "      <th>Wind (mph)</th>\n",
       "    </tr>\n",
       "  </thead>\n",
       "  <tbody>\n",
       "    <tr>\n",
       "      <th>0</th>\n",
       "      <td>0</td>\n",
       "      <td>-65.473665</td>\n",
       "      <td>-19.117666</td>\n",
       "      <td>sucre</td>\n",
       "      <td>bo</td>\n",
       "      <td>67.676</td>\n",
       "      <td>31</td>\n",
       "      <td>27</td>\n",
       "      <td>7.64</td>\n",
       "    </tr>\n",
       "    <tr>\n",
       "      <th>1</th>\n",
       "      <td>1</td>\n",
       "      <td>172.555839</td>\n",
       "      <td>21.238893</td>\n",
       "      <td>butaritari</td>\n",
       "      <td>ki</td>\n",
       "      <td>82.868</td>\n",
       "      <td>77</td>\n",
       "      <td>78</td>\n",
       "      <td>8.99</td>\n",
       "    </tr>\n",
       "    <tr>\n",
       "      <th>2</th>\n",
       "      <td>2</td>\n",
       "      <td>111.287716</td>\n",
       "      <td>16.483843</td>\n",
       "      <td>wanning</td>\n",
       "      <td>cn</td>\n",
       "      <td>80.906</td>\n",
       "      <td>84</td>\n",
       "      <td>89</td>\n",
       "      <td>3.88</td>\n",
       "    </tr>\n",
       "    <tr>\n",
       "      <th>3</th>\n",
       "      <td>3</td>\n",
       "      <td>-66.431865</td>\n",
       "      <td>76.559592</td>\n",
       "      <td>narsaq</td>\n",
       "      <td>gl</td>\n",
       "      <td>50.000</td>\n",
       "      <td>18</td>\n",
       "      <td>0</td>\n",
       "      <td>6.20</td>\n",
       "    </tr>\n",
       "    <tr>\n",
       "      <th>4</th>\n",
       "      <td>4</td>\n",
       "      <td>154.534455</td>\n",
       "      <td>-23.195961</td>\n",
       "      <td>hervey bay</td>\n",
       "      <td>au</td>\n",
       "      <td>60.998</td>\n",
       "      <td>93</td>\n",
       "      <td>82</td>\n",
       "      <td>1.79</td>\n",
       "    </tr>\n",
       "  </tbody>\n",
       "</table>\n",
       "</div>"
      ],
      "text/plain": [
       "   index        long        lat        City Country    Temp  Humidity  \\\n",
       "0      0  -65.473665 -19.117666       sucre      bo  67.676        31   \n",
       "1      1  172.555839  21.238893  butaritari      ki  82.868        77   \n",
       "2      2  111.287716  16.483843     wanning      cn  80.906        84   \n",
       "3      3  -66.431865  76.559592      narsaq      gl  50.000        18   \n",
       "4      4  154.534455 -23.195961  hervey bay      au  60.998        93   \n",
       "\n",
       "   Cloudiness  Wind (mph)  \n",
       "0          27        7.64  \n",
       "1          78        8.99  \n",
       "2          89        3.88  \n",
       "3           0        6.20  \n",
       "4          82        1.79  "
      ]
     },
     "execution_count": 13,
     "metadata": {},
     "output_type": "execute_result"
    }
   ],
   "source": [
    "new_cities[\"Temp\"] = temp_list\n",
    "new_cities[\"Humidity\"] = humid_list\n",
    "new_cities[\"Cloudiness\"] = cloud_list\n",
    "new_cities[\"Wind (mph)\"] = wind_list\n",
    "###\n",
    "### ADD A DROPNA STATEMENT DOWN BELOW TO REMOVE ALL MISSING OPTIONS\n",
    "### OR DELETE BASED ON TEMP BEING \"NAN\" OR \"\" OR WHATEVER\n",
    "### JUST MAKE SURE YOU DO IT\n",
    "###\n",
    "\n",
    "#print(len(temp_list))\n",
    " \n",
    "\n",
    "def kelv_to_fahr(temp_kelv):\n",
    "    \"\"\"Convert Kelvin to Fahrenheit\n",
    "    \n",
    "    Return Fahrenheit conversion of input\"\"\"\n",
    "    \n",
    "    temp_fahr = (temp_kelv)* 9/5 - 459.67\n",
    "    return temp_fahr\n",
    "\n",
    "\n",
    "#converts the strings to numbers so they can be formatted into fahrenheit\n",
    "#new_cities.dropna() to get rid of the empty variables where data was lacking\n",
    "#or do a reverse loc statement, remmoving all that has this characteristic - \"NaN\" or \"\" \n",
    "#before numericization\n",
    "new_cities[\"Temp\"] = pd.to_numeric(new_cities[\"Temp\"])\n",
    "new_cities[\"Temp\"] = kelv_to_fahr(new_cities[\"Temp\"])\n",
    "\n",
    "\n",
    "\n",
    "new_cities.head()"
   ]
  },
  {
   "cell_type": "code",
   "execution_count": null,
   "metadata": {
    "scrolled": true
   },
   "outputs": [],
   "source": []
  },
  {
   "cell_type": "markdown",
   "metadata": {},
   "source": [
    "### Convert Raw Data to DataFrame\n",
    "* Export the city data into a .csv.\n",
    "* Display the DataFrame"
   ]
  },
  {
   "cell_type": "code",
   "execution_count": null,
   "metadata": {},
   "outputs": [],
   "source": []
  },
  {
   "cell_type": "code",
   "execution_count": null,
   "metadata": {},
   "outputs": [],
   "source": []
  },
  {
   "cell_type": "markdown",
   "metadata": {},
   "source": [
    "## Inspect the data and remove the cities where the humidity > 100%.\n",
    "----\n",
    "Skip this step if there are no cities that have humidity > 100%. "
   ]
  },
  {
   "cell_type": "code",
   "execution_count": null,
   "metadata": {},
   "outputs": [],
   "source": []
  },
  {
   "cell_type": "code",
   "execution_count": 10,
   "metadata": {},
   "outputs": [],
   "source": [
    "#  Get the indices of cities that have humidity over 100%.\n"
   ]
  },
  {
   "cell_type": "code",
   "execution_count": 11,
   "metadata": {},
   "outputs": [],
   "source": [
    "# Make a new DataFrame equal to the city data to drop all humidity outliers by index.\n",
    "# Passing \"inplace=False\" will make a copy of the city_data DataFrame, which we call \"clean_city_data\".\n"
   ]
  },
  {
   "cell_type": "code",
   "execution_count": null,
   "metadata": {},
   "outputs": [],
   "source": [
    "\n"
   ]
  },
  {
   "cell_type": "markdown",
   "metadata": {},
   "source": [
    "## Plotting the Data\n",
    "* Use proper labeling of the plots using plot titles (including date of analysis) and axes labels.\n",
    "* Save the plotted figures as .pngs."
   ]
  },
  {
   "cell_type": "markdown",
   "metadata": {},
   "source": [
    "## Latitude vs. Temperature Plot"
   ]
  },
  {
   "cell_type": "code",
   "execution_count": null,
   "metadata": {
    "scrolled": true
   },
   "outputs": [],
   "source": []
  },
  {
   "cell_type": "markdown",
   "metadata": {},
   "source": [
    "## Latitude vs. Humidity Plot"
   ]
  },
  {
   "cell_type": "code",
   "execution_count": null,
   "metadata": {},
   "outputs": [],
   "source": []
  },
  {
   "cell_type": "markdown",
   "metadata": {},
   "source": [
    "## Latitude vs. Cloudiness Plot"
   ]
  },
  {
   "cell_type": "code",
   "execution_count": null,
   "metadata": {},
   "outputs": [],
   "source": []
  },
  {
   "cell_type": "markdown",
   "metadata": {},
   "source": [
    "## Latitude vs. Wind Speed Plot"
   ]
  },
  {
   "cell_type": "code",
   "execution_count": null,
   "metadata": {},
   "outputs": [],
   "source": []
  },
  {
   "cell_type": "markdown",
   "metadata": {},
   "source": [
    "## Linear Regression"
   ]
  },
  {
   "cell_type": "code",
   "execution_count": null,
   "metadata": {},
   "outputs": [],
   "source": []
  },
  {
   "cell_type": "markdown",
   "metadata": {},
   "source": [
    "####  Northern Hemisphere - Max Temp vs. Latitude Linear Regression"
   ]
  },
  {
   "cell_type": "code",
   "execution_count": null,
   "metadata": {},
   "outputs": [],
   "source": []
  },
  {
   "cell_type": "markdown",
   "metadata": {},
   "source": [
    "####  Southern Hemisphere - Max Temp vs. Latitude Linear Regression"
   ]
  },
  {
   "cell_type": "code",
   "execution_count": null,
   "metadata": {},
   "outputs": [],
   "source": []
  },
  {
   "cell_type": "markdown",
   "metadata": {},
   "source": [
    "####  Northern Hemisphere - Humidity (%) vs. Latitude Linear Regression"
   ]
  },
  {
   "cell_type": "code",
   "execution_count": null,
   "metadata": {},
   "outputs": [],
   "source": []
  },
  {
   "cell_type": "markdown",
   "metadata": {},
   "source": [
    "####  Southern Hemisphere - Humidity (%) vs. Latitude Linear Regression"
   ]
  },
  {
   "cell_type": "code",
   "execution_count": null,
   "metadata": {},
   "outputs": [],
   "source": []
  },
  {
   "cell_type": "markdown",
   "metadata": {},
   "source": [
    "####  Northern Hemisphere - Cloudiness (%) vs. Latitude Linear Regression"
   ]
  },
  {
   "cell_type": "code",
   "execution_count": null,
   "metadata": {},
   "outputs": [],
   "source": []
  },
  {
   "cell_type": "markdown",
   "metadata": {},
   "source": [
    "####  Southern Hemisphere - Cloudiness (%) vs. Latitude Linear Regression"
   ]
  },
  {
   "cell_type": "code",
   "execution_count": null,
   "metadata": {},
   "outputs": [],
   "source": []
  },
  {
   "cell_type": "markdown",
   "metadata": {},
   "source": [
    "####  Northern Hemisphere - Wind Speed (mph) vs. Latitude Linear Regression"
   ]
  },
  {
   "cell_type": "code",
   "execution_count": null,
   "metadata": {},
   "outputs": [],
   "source": []
  },
  {
   "cell_type": "markdown",
   "metadata": {},
   "source": [
    "####  Southern Hemisphere - Wind Speed (mph) vs. Latitude Linear Regression"
   ]
  },
  {
   "cell_type": "code",
   "execution_count": null,
   "metadata": {},
   "outputs": [],
   "source": []
  },
  {
   "cell_type": "code",
   "execution_count": null,
   "metadata": {},
   "outputs": [],
   "source": []
  }
 ],
 "metadata": {
  "anaconda-cloud": {},
  "kernel_info": {
   "name": "python3"
  },
  "kernelspec": {
   "display_name": "Python 3",
   "language": "python",
   "name": "python3"
  },
  "language_info": {
   "codemirror_mode": {
    "name": "ipython",
    "version": 3
   },
   "file_extension": ".py",
   "mimetype": "text/x-python",
   "name": "python",
   "nbconvert_exporter": "python",
   "pygments_lexer": "ipython3",
   "version": "3.7.6"
  },
  "latex_envs": {
   "LaTeX_envs_menu_present": true,
   "autoclose": false,
   "autocomplete": true,
   "bibliofile": "biblio.bib",
   "cite_by": "apalike",
   "current_citInitial": 1,
   "eqLabelWithNumbers": true,
   "eqNumInitial": 1,
   "hotkeys": {
    "equation": "Ctrl-E",
    "itemize": "Ctrl-I"
   },
   "labels_anchors": false,
   "latex_user_defs": false,
   "report_style_numbering": false,
   "user_envs_cfg": false
  },
  "nteract": {
   "version": "0.12.3"
  }
 },
 "nbformat": 4,
 "nbformat_minor": 2
}
