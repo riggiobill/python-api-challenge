{
 "cells": [
  {
   "cell_type": "markdown",
   "metadata": {},
   "source": [
    "# WeatherPy\n",
    "----\n",
    "\n",
    "#### Note\n",
    "* Instructions have been included for each segment. You do not have to follow them exactly, but they are included to help you think through the steps."
   ]
  },
  {
   "cell_type": "code",
   "execution_count": 8,
   "metadata": {},
   "outputs": [],
   "source": [
    "import pandas as pd\n",
    "import numpy as np\n",
    "import requests\n",
    "import json\n",
    "import matplotlib.pyplot as plt\n",
    "\n",
    "from api_keys import weather_api_key\n",
    "from citipy import citipy"
   ]
  },
  {
   "cell_type": "code",
   "execution_count": 14,
   "metadata": {
    "scrolled": true
   },
   "outputs": [
    {
     "data": {
      "text/html": [
       "<div>\n",
       "<style scoped>\n",
       "    .dataframe tbody tr th:only-of-type {\n",
       "        vertical-align: middle;\n",
       "    }\n",
       "\n",
       "    .dataframe tbody tr th {\n",
       "        vertical-align: top;\n",
       "    }\n",
       "\n",
       "    .dataframe thead th {\n",
       "        text-align: right;\n",
       "    }\n",
       "</style>\n",
       "<table border=\"1\" class=\"dataframe\">\n",
       "  <thead>\n",
       "    <tr style=\"text-align: right;\">\n",
       "      <th></th>\n",
       "      <th>long</th>\n",
       "      <th>lat</th>\n",
       "    </tr>\n",
       "  </thead>\n",
       "  <tbody>\n",
       "    <tr>\n",
       "      <th>0</th>\n",
       "      <td>-92.684456</td>\n",
       "      <td>-17.056190</td>\n",
       "    </tr>\n",
       "    <tr>\n",
       "      <th>1</th>\n",
       "      <td>171.042536</td>\n",
       "      <td>75.848966</td>\n",
       "    </tr>\n",
       "    <tr>\n",
       "      <th>2</th>\n",
       "      <td>61.378896</td>\n",
       "      <td>-5.946120</td>\n",
       "    </tr>\n",
       "    <tr>\n",
       "      <th>3</th>\n",
       "      <td>-141.327959</td>\n",
       "      <td>49.559032</td>\n",
       "    </tr>\n",
       "    <tr>\n",
       "      <th>4</th>\n",
       "      <td>96.826876</td>\n",
       "      <td>-13.634482</td>\n",
       "    </tr>\n",
       "  </tbody>\n",
       "</table>\n",
       "</div>"
      ],
      "text/plain": [
       "         long        lat\n",
       "0  -92.684456 -17.056190\n",
       "1  171.042536  75.848966\n",
       "2   61.378896  -5.946120\n",
       "3 -141.327959  49.559032\n",
       "4   96.826876 -13.634482"
      ]
     },
     "execution_count": 14,
     "metadata": {},
     "output_type": "execute_result"
    }
   ],
   "source": [
    "\n",
    "#Casts a dataframe with two very long sets of random numbers formatted for use as random lat/long coordinates\n",
    "cities_df = pd.DataFrame({\"long\":(np.random.uniform(-1.8,1.8,1200)*100), \"lat\":(np.random.uniform(-0.9,0.9,1200)*100)})\n",
    "\n",
    "####\n",
    "#### API SAVER\n",
    "####\n",
    "cities_df = cities_df.truncate(after = 9)\n",
    "\n",
    "\n",
    "cities_df.head()\n",
    "\n",
    "#city = citipy.nearest_city(22.99,120.21)\n",
    "#city.country_code"
   ]
  },
  {
   "cell_type": "markdown",
   "metadata": {},
   "source": [
    "## Generate Cities List"
   ]
  },
  {
   "cell_type": "code",
   "execution_count": 15,
   "metadata": {},
   "outputs": [
    {
     "data": {
      "text/html": [
       "<div>\n",
       "<style scoped>\n",
       "    .dataframe tbody tr th:only-of-type {\n",
       "        vertical-align: middle;\n",
       "    }\n",
       "\n",
       "    .dataframe tbody tr th {\n",
       "        vertical-align: top;\n",
       "    }\n",
       "\n",
       "    .dataframe thead th {\n",
       "        text-align: right;\n",
       "    }\n",
       "</style>\n",
       "<table border=\"1\" class=\"dataframe\">\n",
       "  <thead>\n",
       "    <tr style=\"text-align: right;\">\n",
       "      <th></th>\n",
       "      <th>long</th>\n",
       "      <th>lat</th>\n",
       "      <th>City</th>\n",
       "      <th>Country</th>\n",
       "    </tr>\n",
       "  </thead>\n",
       "  <tbody>\n",
       "    <tr>\n",
       "      <th>0</th>\n",
       "      <td>-92.684456</td>\n",
       "      <td>-17.056190</td>\n",
       "      <td>huarmey</td>\n",
       "      <td>pe</td>\n",
       "    </tr>\n",
       "    <tr>\n",
       "      <th>1</th>\n",
       "      <td>171.042536</td>\n",
       "      <td>75.848966</td>\n",
       "      <td>pevek</td>\n",
       "      <td>ru</td>\n",
       "    </tr>\n",
       "    <tr>\n",
       "      <th>2</th>\n",
       "      <td>61.378896</td>\n",
       "      <td>-5.946120</td>\n",
       "      <td>victoria</td>\n",
       "      <td>sc</td>\n",
       "    </tr>\n",
       "    <tr>\n",
       "      <th>3</th>\n",
       "      <td>-141.327959</td>\n",
       "      <td>49.559032</td>\n",
       "      <td>sitka</td>\n",
       "      <td>us</td>\n",
       "    </tr>\n",
       "    <tr>\n",
       "      <th>4</th>\n",
       "      <td>96.826876</td>\n",
       "      <td>-13.634482</td>\n",
       "      <td>bengkulu</td>\n",
       "      <td>id</td>\n",
       "    </tr>\n",
       "    <tr>\n",
       "      <th>5</th>\n",
       "      <td>97.251613</td>\n",
       "      <td>56.583467</td>\n",
       "      <td>pokanayevka</td>\n",
       "      <td>ru</td>\n",
       "    </tr>\n",
       "    <tr>\n",
       "      <th>6</th>\n",
       "      <td>-16.425064</td>\n",
       "      <td>36.282349</td>\n",
       "      <td>camacha</td>\n",
       "      <td>pt</td>\n",
       "    </tr>\n",
       "    <tr>\n",
       "      <th>7</th>\n",
       "      <td>177.809608</td>\n",
       "      <td>58.095938</td>\n",
       "      <td>beringovskiy</td>\n",
       "      <td>ru</td>\n",
       "    </tr>\n",
       "    <tr>\n",
       "      <th>8</th>\n",
       "      <td>-120.721109</td>\n",
       "      <td>0.525954</td>\n",
       "      <td>atuona</td>\n",
       "      <td>pf</td>\n",
       "    </tr>\n",
       "    <tr>\n",
       "      <th>9</th>\n",
       "      <td>56.075435</td>\n",
       "      <td>-50.895595</td>\n",
       "      <td>taolanaro</td>\n",
       "      <td>mg</td>\n",
       "    </tr>\n",
       "  </tbody>\n",
       "</table>\n",
       "</div>"
      ],
      "text/plain": [
       "         long        lat          City Country\n",
       "0  -92.684456 -17.056190       huarmey      pe\n",
       "1  171.042536  75.848966         pevek      ru\n",
       "2   61.378896  -5.946120      victoria      sc\n",
       "3 -141.327959  49.559032         sitka      us\n",
       "4   96.826876 -13.634482      bengkulu      id\n",
       "5   97.251613  56.583467   pokanayevka      ru\n",
       "6  -16.425064  36.282349       camacha      pt\n",
       "7  177.809608  58.095938  beringovskiy      ru\n",
       "8 -120.721109   0.525954        atuona      pf\n",
       "9   56.075435 -50.895595     taolanaro      mg"
      ]
     },
     "execution_count": 15,
     "metadata": {},
     "output_type": "execute_result"
    }
   ],
   "source": [
    "cities_name = []\n",
    "countrycode = []\n",
    "for i in range(0,len(cities_df['lat'])):\n",
    "    \n",
    "    #API saver\n",
    "    if i>10:\n",
    "        break\n",
    "    \n",
    "    \n",
    "    lat = cities_df.iloc[i]['lat']\n",
    "    long = cities_df.iloc[i]['long']\n",
    "    city = citipy.nearest_city(lat,long)\n",
    "    \n",
    "    name = city.city_name\n",
    "    cities_name.append(name)\n",
    "    country = city.country_code\n",
    "    countrycode.append(country)\n",
    "    \n",
    "cities_df['City'] = cities_name\n",
    "cities_df['Country'] = countrycode\n",
    "cities_df.head(10)"
   ]
  },
  {
   "cell_type": "code",
   "execution_count": 16,
   "metadata": {},
   "outputs": [
    {
     "data": {
      "text/html": [
       "<div>\n",
       "<style scoped>\n",
       "    .dataframe tbody tr th:only-of-type {\n",
       "        vertical-align: middle;\n",
       "    }\n",
       "\n",
       "    .dataframe tbody tr th {\n",
       "        vertical-align: top;\n",
       "    }\n",
       "\n",
       "    .dataframe thead th {\n",
       "        text-align: right;\n",
       "    }\n",
       "</style>\n",
       "<table border=\"1\" class=\"dataframe\">\n",
       "  <thead>\n",
       "    <tr style=\"text-align: right;\">\n",
       "      <th></th>\n",
       "      <th>index</th>\n",
       "      <th>long</th>\n",
       "      <th>lat</th>\n",
       "      <th>City</th>\n",
       "      <th>Country</th>\n",
       "    </tr>\n",
       "  </thead>\n",
       "  <tbody>\n",
       "    <tr>\n",
       "      <th>0</th>\n",
       "      <td>0</td>\n",
       "      <td>-92.684456</td>\n",
       "      <td>-17.056190</td>\n",
       "      <td>huarmey</td>\n",
       "      <td>pe</td>\n",
       "    </tr>\n",
       "    <tr>\n",
       "      <th>1</th>\n",
       "      <td>1</td>\n",
       "      <td>171.042536</td>\n",
       "      <td>75.848966</td>\n",
       "      <td>pevek</td>\n",
       "      <td>ru</td>\n",
       "    </tr>\n",
       "    <tr>\n",
       "      <th>2</th>\n",
       "      <td>2</td>\n",
       "      <td>61.378896</td>\n",
       "      <td>-5.946120</td>\n",
       "      <td>victoria</td>\n",
       "      <td>sc</td>\n",
       "    </tr>\n",
       "    <tr>\n",
       "      <th>3</th>\n",
       "      <td>3</td>\n",
       "      <td>-141.327959</td>\n",
       "      <td>49.559032</td>\n",
       "      <td>sitka</td>\n",
       "      <td>us</td>\n",
       "    </tr>\n",
       "    <tr>\n",
       "      <th>4</th>\n",
       "      <td>4</td>\n",
       "      <td>96.826876</td>\n",
       "      <td>-13.634482</td>\n",
       "      <td>bengkulu</td>\n",
       "      <td>id</td>\n",
       "    </tr>\n",
       "    <tr>\n",
       "      <th>5</th>\n",
       "      <td>5</td>\n",
       "      <td>97.251613</td>\n",
       "      <td>56.583467</td>\n",
       "      <td>pokanayevka</td>\n",
       "      <td>ru</td>\n",
       "    </tr>\n",
       "    <tr>\n",
       "      <th>6</th>\n",
       "      <td>6</td>\n",
       "      <td>-16.425064</td>\n",
       "      <td>36.282349</td>\n",
       "      <td>camacha</td>\n",
       "      <td>pt</td>\n",
       "    </tr>\n",
       "    <tr>\n",
       "      <th>7</th>\n",
       "      <td>7</td>\n",
       "      <td>177.809608</td>\n",
       "      <td>58.095938</td>\n",
       "      <td>beringovskiy</td>\n",
       "      <td>ru</td>\n",
       "    </tr>\n",
       "    <tr>\n",
       "      <th>8</th>\n",
       "      <td>8</td>\n",
       "      <td>-120.721109</td>\n",
       "      <td>0.525954</td>\n",
       "      <td>atuona</td>\n",
       "      <td>pf</td>\n",
       "    </tr>\n",
       "    <tr>\n",
       "      <th>9</th>\n",
       "      <td>9</td>\n",
       "      <td>56.075435</td>\n",
       "      <td>-50.895595</td>\n",
       "      <td>taolanaro</td>\n",
       "      <td>mg</td>\n",
       "    </tr>\n",
       "  </tbody>\n",
       "</table>\n",
       "</div>"
      ],
      "text/plain": [
       "   index        long        lat          City Country\n",
       "0      0  -92.684456 -17.056190       huarmey      pe\n",
       "1      1  171.042536  75.848966         pevek      ru\n",
       "2      2   61.378896  -5.946120      victoria      sc\n",
       "3      3 -141.327959  49.559032         sitka      us\n",
       "4      4   96.826876 -13.634482      bengkulu      id\n",
       "5      5   97.251613  56.583467   pokanayevka      ru\n",
       "6      6  -16.425064  36.282349       camacha      pt\n",
       "7      7  177.809608  58.095938  beringovskiy      ru\n",
       "8      8 -120.721109   0.525954        atuona      pf\n",
       "9      9   56.075435 -50.895595     taolanaro      mg"
      ]
     },
     "execution_count": 16,
     "metadata": {},
     "output_type": "execute_result"
    }
   ],
   "source": [
    "#drop duplicate cities in cities_df\n",
    "cities_copy = cities_df.copy()\n",
    "new_cities = cities_copy.drop_duplicates(\"City\", keep = 'first')\n",
    "\n",
    "#reset cities_df's index and truncate at 499 to provide sample size of 500 random cities.\n",
    "new_cities = new_cities.reset_index()\n",
    "new_cities = new_cities.truncate( after=499)\n",
    "new_cities"
   ]
  },
  {
   "cell_type": "code",
   "execution_count": 17,
   "metadata": {},
   "outputs": [
    {
     "data": {
      "text/html": [
       "<div>\n",
       "<style scoped>\n",
       "    .dataframe tbody tr th:only-of-type {\n",
       "        vertical-align: middle;\n",
       "    }\n",
       "\n",
       "    .dataframe tbody tr th {\n",
       "        vertical-align: top;\n",
       "    }\n",
       "\n",
       "    .dataframe thead th {\n",
       "        text-align: right;\n",
       "    }\n",
       "</style>\n",
       "<table border=\"1\" class=\"dataframe\">\n",
       "  <thead>\n",
       "    <tr style=\"text-align: right;\">\n",
       "      <th></th>\n",
       "      <th>index</th>\n",
       "      <th>long</th>\n",
       "      <th>lat</th>\n",
       "      <th>City</th>\n",
       "      <th>Country</th>\n",
       "      <th>Temp</th>\n",
       "      <th>Humidity</th>\n",
       "      <th>Cloudiness</th>\n",
       "      <th>Wind (mph)</th>\n",
       "    </tr>\n",
       "  </thead>\n",
       "  <tbody>\n",
       "    <tr>\n",
       "      <th>0</th>\n",
       "      <td>0</td>\n",
       "      <td>-92.684456</td>\n",
       "      <td>-17.056190</td>\n",
       "      <td>huarmey</td>\n",
       "      <td>pe</td>\n",
       "      <td></td>\n",
       "      <td></td>\n",
       "      <td></td>\n",
       "      <td></td>\n",
       "    </tr>\n",
       "    <tr>\n",
       "      <th>1</th>\n",
       "      <td>1</td>\n",
       "      <td>171.042536</td>\n",
       "      <td>75.848966</td>\n",
       "      <td>pevek</td>\n",
       "      <td>ru</td>\n",
       "      <td></td>\n",
       "      <td></td>\n",
       "      <td></td>\n",
       "      <td></td>\n",
       "    </tr>\n",
       "    <tr>\n",
       "      <th>2</th>\n",
       "      <td>2</td>\n",
       "      <td>61.378896</td>\n",
       "      <td>-5.946120</td>\n",
       "      <td>victoria</td>\n",
       "      <td>sc</td>\n",
       "      <td></td>\n",
       "      <td></td>\n",
       "      <td></td>\n",
       "      <td></td>\n",
       "    </tr>\n",
       "    <tr>\n",
       "      <th>3</th>\n",
       "      <td>3</td>\n",
       "      <td>-141.327959</td>\n",
       "      <td>49.559032</td>\n",
       "      <td>sitka</td>\n",
       "      <td>us</td>\n",
       "      <td></td>\n",
       "      <td></td>\n",
       "      <td></td>\n",
       "      <td></td>\n",
       "    </tr>\n",
       "    <tr>\n",
       "      <th>4</th>\n",
       "      <td>4</td>\n",
       "      <td>96.826876</td>\n",
       "      <td>-13.634482</td>\n",
       "      <td>bengkulu</td>\n",
       "      <td>id</td>\n",
       "      <td></td>\n",
       "      <td></td>\n",
       "      <td></td>\n",
       "      <td></td>\n",
       "    </tr>\n",
       "    <tr>\n",
       "      <th>5</th>\n",
       "      <td>5</td>\n",
       "      <td>97.251613</td>\n",
       "      <td>56.583467</td>\n",
       "      <td>pokanayevka</td>\n",
       "      <td>ru</td>\n",
       "      <td></td>\n",
       "      <td></td>\n",
       "      <td></td>\n",
       "      <td></td>\n",
       "    </tr>\n",
       "    <tr>\n",
       "      <th>6</th>\n",
       "      <td>6</td>\n",
       "      <td>-16.425064</td>\n",
       "      <td>36.282349</td>\n",
       "      <td>camacha</td>\n",
       "      <td>pt</td>\n",
       "      <td></td>\n",
       "      <td></td>\n",
       "      <td></td>\n",
       "      <td></td>\n",
       "    </tr>\n",
       "    <tr>\n",
       "      <th>7</th>\n",
       "      <td>7</td>\n",
       "      <td>177.809608</td>\n",
       "      <td>58.095938</td>\n",
       "      <td>beringovskiy</td>\n",
       "      <td>ru</td>\n",
       "      <td></td>\n",
       "      <td></td>\n",
       "      <td></td>\n",
       "      <td></td>\n",
       "    </tr>\n",
       "    <tr>\n",
       "      <th>8</th>\n",
       "      <td>8</td>\n",
       "      <td>-120.721109</td>\n",
       "      <td>0.525954</td>\n",
       "      <td>atuona</td>\n",
       "      <td>pf</td>\n",
       "      <td></td>\n",
       "      <td></td>\n",
       "      <td></td>\n",
       "      <td></td>\n",
       "    </tr>\n",
       "    <tr>\n",
       "      <th>9</th>\n",
       "      <td>9</td>\n",
       "      <td>56.075435</td>\n",
       "      <td>-50.895595</td>\n",
       "      <td>taolanaro</td>\n",
       "      <td>mg</td>\n",
       "      <td></td>\n",
       "      <td></td>\n",
       "      <td></td>\n",
       "      <td></td>\n",
       "    </tr>\n",
       "  </tbody>\n",
       "</table>\n",
       "</div>"
      ],
      "text/plain": [
       "   index        long        lat          City Country Temp Humidity  \\\n",
       "0      0  -92.684456 -17.056190       huarmey      pe                 \n",
       "1      1  171.042536  75.848966         pevek      ru                 \n",
       "2      2   61.378896  -5.946120      victoria      sc                 \n",
       "3      3 -141.327959  49.559032         sitka      us                 \n",
       "4      4   96.826876 -13.634482      bengkulu      id                 \n",
       "5      5   97.251613  56.583467   pokanayevka      ru                 \n",
       "6      6  -16.425064  36.282349       camacha      pt                 \n",
       "7      7  177.809608  58.095938  beringovskiy      ru                 \n",
       "8      8 -120.721109   0.525954        atuona      pf                 \n",
       "9      9   56.075435 -50.895595     taolanaro      mg                 \n",
       "\n",
       "  Cloudiness Wind (mph)  \n",
       "0                        \n",
       "1                        \n",
       "2                        \n",
       "3                        \n",
       "4                        \n",
       "5                        \n",
       "6                        \n",
       "7                        \n",
       "8                        \n",
       "9                        "
      ]
     },
     "execution_count": 17,
     "metadata": {},
     "output_type": "execute_result"
    }
   ],
   "source": [
    "api_key = weather_api_key\n",
    "\n",
    "\n",
    "#Establish columns for data to be used in scatter plots\n",
    "new_cities[\"Temp\"]=\"\"\n",
    "new_cities[\"Humidity\"]=\"\"\n",
    "new_cities[\"Cloudiness\"]=\"\"\n",
    "new_cities[\"Wind (mph)\"]=\"\"\n",
    "new_cities.head(10)"
   ]
  },
  {
   "cell_type": "markdown",
   "metadata": {},
   "source": [
    "### Perform API Calls\n",
    "* Perform a weather check on each city using a series of successive API calls.\n",
    "* Include a print log of each city as it'sbeing processed (with the city number and city name).\n"
   ]
  },
  {
   "cell_type": "code",
   "execution_count": 18,
   "metadata": {},
   "outputs": [],
   "source": [
    "#Use iterrows() to loop through the new_cities sample size and perform API calls for each "
   ]
  },
  {
   "cell_type": "code",
   "execution_count": 26,
   "metadata": {},
   "outputs": [
    {
     "name": "stdout",
     "output_type": "stream",
     "text": [
      "{'cod': 429, 'message': 'Your account is temporary blocked due to exceeding of requests limitation of your subscription type. Please choose the proper subscription http://openweathermap.org/price'}\n"
     ]
    },
    {
     "ename": "KeyError",
     "evalue": "'main'",
     "output_type": "error",
     "traceback": [
      "\u001b[1;31m---------------------------------------------------------------------------\u001b[0m",
      "\u001b[1;31mKeyError\u001b[0m                                  Traceback (most recent call last)",
      "\u001b[1;32m<ipython-input-26-f44663a72161>\u001b[0m in \u001b[0;36m<module>\u001b[1;34m\u001b[0m\n\u001b[0;32m      4\u001b[0m \u001b[1;31m#print(\"       \")\u001b[0m\u001b[1;33m\u001b[0m\u001b[1;33m\u001b[0m\u001b[1;33m\u001b[0m\u001b[0m\n\u001b[0;32m      5\u001b[0m \u001b[1;31m#print(\"       \")\u001b[0m\u001b[1;33m\u001b[0m\u001b[1;33m\u001b[0m\u001b[1;33m\u001b[0m\u001b[0m\n\u001b[1;32m----> 6\u001b[1;33m \u001b[0mprint\u001b[0m\u001b[1;33m(\u001b[0m\u001b[0mweather_json\u001b[0m\u001b[1;33m[\u001b[0m\u001b[1;34m\"main\"\u001b[0m\u001b[1;33m]\u001b[0m\u001b[1;33m[\u001b[0m\u001b[1;34m\"temp\"\u001b[0m\u001b[1;33m]\u001b[0m\u001b[1;33m)\u001b[0m\u001b[1;33m\u001b[0m\u001b[1;33m\u001b[0m\u001b[0m\n\u001b[0m\u001b[0;32m      7\u001b[0m \u001b[0mtemp_list\u001b[0m \u001b[1;33m=\u001b[0m \u001b[1;33m[\u001b[0m\u001b[1;33m]\u001b[0m\u001b[1;33m\u001b[0m\u001b[1;33m\u001b[0m\u001b[0m\n\u001b[0;32m      8\u001b[0m \u001b[1;33m\u001b[0m\u001b[0m\n",
      "\u001b[1;31mKeyError\u001b[0m: 'main'"
     ]
    }
   ],
   "source": [
    "#Test API block status\n",
    "\n",
    "target_url=f\"http://api.openweathermap.org/data/2.5/weather?q={new_cities.City[0]}&appid={weather_api_key}\"\n",
    "weather_json = requests.get(target_url).json()\n",
    "print(weather_json)\n",
    "#print(\"       \")\n",
    "#print(\"       \")\n",
    "print(weather_json[\"main\"][\"temp\"])\n",
    "\n",
    "\n",
    "#temp_list.append(weather_json[\"main\"][\"temp\"])\n",
    "#print(temp_list)"
   ]
  },
  {
   "cell_type": "code",
   "execution_count": 28,
   "metadata": {},
   "outputs": [
    {
     "name": "stdout",
     "output_type": "stream",
     "text": [
      "Processing Record 0 | huarmey\n",
      "City not found. Skipping...\n",
      "Processing Record 1 | pevek\n",
      "City not found. Skipping...\n",
      "Processing Record 2 | victoria\n",
      "City not found. Skipping...\n",
      "Processing Record 3 | sitka\n",
      "City not found. Skipping...\n",
      "Processing Record 4 | bengkulu\n",
      "City not found. Skipping...\n",
      "Processing Record 5 | pokanayevka\n",
      "City not found. Skipping...\n",
      "Processing Record 6 | camacha\n",
      "City not found. Skipping...\n",
      "Processing Record 7 | beringovskiy\n",
      "City not found. Skipping...\n",
      "Processing Record 8 | atuona\n",
      "City not found. Skipping...\n",
      "Processing Record 9 | taolanaro\n",
      "City not found. Skipping...\n"
     ]
    }
   ],
   "source": [
    "temp_list = []\n",
    "for index, row in new_cities.iterrows():\n",
    "    \n",
    "    \n",
    "    #API saver\n",
    "    if index>10:\n",
    "        break\n",
    "    \n",
    "    target_url=f\"http://api.openweathermap.org/data/2.5/weather?q={row[3]}&appid={weather_api_key}\"\n",
    "    weather_json = requests.get(target_url).json()\n",
    "    print(f\"Processing Record {index} | {row[3]}\")\n",
    "    \n",
    "    try:\n",
    "        #new_cities.set_value(index, \"Temp\", weather_json[\"main\"][\"temp\"])\n",
    "        temp_list.append(weather_json[\"main\"][\"temp\"])\n",
    "        \n",
    "        \n",
    "        #new_cities.set_value(index, \"Humidity\", weather_json[\"main\"][\"humidity\"])\n",
    "        #new_cities.set_value(index, \"Cloudiness\", weather_json[\"clouds\"][\"all\"])\n",
    "        #new_cities.set_value(index, \"Wind (mph)\", weather_json[\"wind\"][\"speed\"])\n",
    "        \n",
    "    except:\n",
    "        temp_list.append(\"\")\n",
    "        print(\"City not found. Skipping...\")"
   ]
  },
  {
   "cell_type": "code",
   "execution_count": 32,
   "metadata": {},
   "outputs": [
    {
     "name": "stdout",
     "output_type": "stream",
     "text": [
      "10\n"
     ]
    },
    {
     "data": {
      "text/html": [
       "<div>\n",
       "<style scoped>\n",
       "    .dataframe tbody tr th:only-of-type {\n",
       "        vertical-align: middle;\n",
       "    }\n",
       "\n",
       "    .dataframe tbody tr th {\n",
       "        vertical-align: top;\n",
       "    }\n",
       "\n",
       "    .dataframe thead th {\n",
       "        text-align: right;\n",
       "    }\n",
       "</style>\n",
       "<table border=\"1\" class=\"dataframe\">\n",
       "  <thead>\n",
       "    <tr style=\"text-align: right;\">\n",
       "      <th></th>\n",
       "      <th>index</th>\n",
       "      <th>long</th>\n",
       "      <th>lat</th>\n",
       "      <th>City</th>\n",
       "      <th>Country</th>\n",
       "      <th>Temp</th>\n",
       "      <th>Humidity</th>\n",
       "      <th>Cloudiness</th>\n",
       "      <th>Wind (mph)</th>\n",
       "    </tr>\n",
       "  </thead>\n",
       "  <tbody>\n",
       "    <tr>\n",
       "      <th>0</th>\n",
       "      <td>0</td>\n",
       "      <td>-92.684456</td>\n",
       "      <td>-17.056190</td>\n",
       "      <td>huarmey</td>\n",
       "      <td>pe</td>\n",
       "      <td>35.33</td>\n",
       "      <td></td>\n",
       "      <td></td>\n",
       "      <td></td>\n",
       "    </tr>\n",
       "    <tr>\n",
       "      <th>1</th>\n",
       "      <td>1</td>\n",
       "      <td>171.042536</td>\n",
       "      <td>75.848966</td>\n",
       "      <td>pevek</td>\n",
       "      <td>ru</td>\n",
       "      <td>35.33</td>\n",
       "      <td></td>\n",
       "      <td></td>\n",
       "      <td></td>\n",
       "    </tr>\n",
       "    <tr>\n",
       "      <th>2</th>\n",
       "      <td>2</td>\n",
       "      <td>61.378896</td>\n",
       "      <td>-5.946120</td>\n",
       "      <td>victoria</td>\n",
       "      <td>sc</td>\n",
       "      <td>35.33</td>\n",
       "      <td></td>\n",
       "      <td></td>\n",
       "      <td></td>\n",
       "    </tr>\n",
       "    <tr>\n",
       "      <th>3</th>\n",
       "      <td>3</td>\n",
       "      <td>-141.327959</td>\n",
       "      <td>49.559032</td>\n",
       "      <td>sitka</td>\n",
       "      <td>us</td>\n",
       "      <td>35.33</td>\n",
       "      <td></td>\n",
       "      <td></td>\n",
       "      <td></td>\n",
       "    </tr>\n",
       "    <tr>\n",
       "      <th>4</th>\n",
       "      <td>4</td>\n",
       "      <td>96.826876</td>\n",
       "      <td>-13.634482</td>\n",
       "      <td>bengkulu</td>\n",
       "      <td>id</td>\n",
       "      <td>35.33</td>\n",
       "      <td></td>\n",
       "      <td></td>\n",
       "      <td></td>\n",
       "    </tr>\n",
       "  </tbody>\n",
       "</table>\n",
       "</div>"
      ],
      "text/plain": [
       "   index        long        lat      City Country   Temp Humidity Cloudiness  \\\n",
       "0      0  -92.684456 -17.056190   huarmey      pe  35.33                       \n",
       "1      1  171.042536  75.848966     pevek      ru  35.33                       \n",
       "2      2   61.378896  -5.946120  victoria      sc  35.33                       \n",
       "3      3 -141.327959  49.559032     sitka      us  35.33                       \n",
       "4      4   96.826876 -13.634482  bengkulu      id  35.33                       \n",
       "\n",
       "  Wind (mph)  \n",
       "0             \n",
       "1             \n",
       "2             \n",
       "3             \n",
       "4             "
      ]
     },
     "execution_count": 32,
     "metadata": {},
     "output_type": "execute_result"
    }
   ],
   "source": [
    "new_cities[\"Temp\"] = temp_list\n",
    "###\n",
    "### ADD A DROPNA STATEMENT DOWN BELOW TO REMOVE ALL MISSING OPTIONS\n",
    "### OR DELETE BASED ON TEMP BEING \"NAN\" OR \"\" OR WHATEVER\n",
    "### JUST MAKE SURE YOU DO IT\n",
    "###\n",
    "\n",
    "#print(len(temp_list))\n",
    " \n",
    "\n",
    "def kelv_to_fahr(temp_kelv):\n",
    "    \"\"\"Convert Kelvin to Fahrenheit\n",
    "    \n",
    "    Return Fahrenheit conversion of input\"\"\"\n",
    "    \n",
    "    temp_fahr = (temp_kelv)* 9/5 - 459.67\n",
    "    return temp_fahr\n",
    "\n",
    "\n",
    "#converts the strings to numbers so they can be formatted into fahrenheit\n",
    "#new_cities.dropna() to get rid of the empty variables where data was lacking\n",
    "#or do a reverse loc statement, remmoving all that has this characteristic - \"NaN\" or \"\" \n",
    "#before numericization\n",
    "new_cities[\"Temp\"] = pd.to_numeric(new_cities[\"Temp\"])\n",
    "new_cities[\"Temp\"] = kelv_to_fahr(new_cities[\"Temp\"])\n",
    "\n",
    "\n",
    "\n",
    "new_cities.head()"
   ]
  },
  {
   "cell_type": "code",
   "execution_count": null,
   "metadata": {
    "scrolled": true
   },
   "outputs": [],
   "source": []
  },
  {
   "cell_type": "markdown",
   "metadata": {},
   "source": [
    "### Convert Raw Data to DataFrame\n",
    "* Export the city data into a .csv.\n",
    "* Display the DataFrame"
   ]
  },
  {
   "cell_type": "code",
   "execution_count": null,
   "metadata": {},
   "outputs": [],
   "source": []
  },
  {
   "cell_type": "code",
   "execution_count": null,
   "metadata": {},
   "outputs": [],
   "source": []
  },
  {
   "cell_type": "markdown",
   "metadata": {},
   "source": [
    "## Inspect the data and remove the cities where the humidity > 100%.\n",
    "----\n",
    "Skip this step if there are no cities that have humidity > 100%. "
   ]
  },
  {
   "cell_type": "code",
   "execution_count": null,
   "metadata": {},
   "outputs": [],
   "source": []
  },
  {
   "cell_type": "code",
   "execution_count": null,
   "metadata": {},
   "outputs": [],
   "source": [
    "#  Get the indices of cities that have humidity over 100%.\n"
   ]
  },
  {
   "cell_type": "code",
   "execution_count": null,
   "metadata": {},
   "outputs": [],
   "source": [
    "# Make a new DataFrame equal to the city data to drop all humidity outliers by index.\n",
    "# Passing \"inplace=False\" will make a copy of the city_data DataFrame, which we call \"clean_city_data\".\n"
   ]
  },
  {
   "cell_type": "code",
   "execution_count": null,
   "metadata": {},
   "outputs": [],
   "source": [
    "\n"
   ]
  },
  {
   "cell_type": "markdown",
   "metadata": {},
   "source": [
    "## Plotting the Data\n",
    "* Use proper labeling of the plots using plot titles (including date of analysis) and axes labels.\n",
    "* Save the plotted figures as .pngs."
   ]
  },
  {
   "cell_type": "markdown",
   "metadata": {},
   "source": [
    "## Latitude vs. Temperature Plot"
   ]
  },
  {
   "cell_type": "code",
   "execution_count": null,
   "metadata": {
    "scrolled": true
   },
   "outputs": [],
   "source": []
  },
  {
   "cell_type": "markdown",
   "metadata": {},
   "source": [
    "## Latitude vs. Humidity Plot"
   ]
  },
  {
   "cell_type": "code",
   "execution_count": null,
   "metadata": {},
   "outputs": [],
   "source": []
  },
  {
   "cell_type": "markdown",
   "metadata": {},
   "source": [
    "## Latitude vs. Cloudiness Plot"
   ]
  },
  {
   "cell_type": "code",
   "execution_count": null,
   "metadata": {},
   "outputs": [],
   "source": []
  },
  {
   "cell_type": "markdown",
   "metadata": {},
   "source": [
    "## Latitude vs. Wind Speed Plot"
   ]
  },
  {
   "cell_type": "code",
   "execution_count": null,
   "metadata": {},
   "outputs": [],
   "source": []
  },
  {
   "cell_type": "markdown",
   "metadata": {},
   "source": [
    "## Linear Regression"
   ]
  },
  {
   "cell_type": "code",
   "execution_count": null,
   "metadata": {},
   "outputs": [],
   "source": []
  },
  {
   "cell_type": "markdown",
   "metadata": {},
   "source": [
    "####  Northern Hemisphere - Max Temp vs. Latitude Linear Regression"
   ]
  },
  {
   "cell_type": "code",
   "execution_count": null,
   "metadata": {},
   "outputs": [],
   "source": []
  },
  {
   "cell_type": "markdown",
   "metadata": {},
   "source": [
    "####  Southern Hemisphere - Max Temp vs. Latitude Linear Regression"
   ]
  },
  {
   "cell_type": "code",
   "execution_count": null,
   "metadata": {},
   "outputs": [],
   "source": []
  },
  {
   "cell_type": "markdown",
   "metadata": {},
   "source": [
    "####  Northern Hemisphere - Humidity (%) vs. Latitude Linear Regression"
   ]
  },
  {
   "cell_type": "code",
   "execution_count": null,
   "metadata": {},
   "outputs": [],
   "source": []
  },
  {
   "cell_type": "markdown",
   "metadata": {},
   "source": [
    "####  Southern Hemisphere - Humidity (%) vs. Latitude Linear Regression"
   ]
  },
  {
   "cell_type": "code",
   "execution_count": null,
   "metadata": {},
   "outputs": [],
   "source": []
  },
  {
   "cell_type": "markdown",
   "metadata": {},
   "source": [
    "####  Northern Hemisphere - Cloudiness (%) vs. Latitude Linear Regression"
   ]
  },
  {
   "cell_type": "code",
   "execution_count": null,
   "metadata": {},
   "outputs": [],
   "source": []
  },
  {
   "cell_type": "markdown",
   "metadata": {},
   "source": [
    "####  Southern Hemisphere - Cloudiness (%) vs. Latitude Linear Regression"
   ]
  },
  {
   "cell_type": "code",
   "execution_count": null,
   "metadata": {},
   "outputs": [],
   "source": []
  },
  {
   "cell_type": "markdown",
   "metadata": {},
   "source": [
    "####  Northern Hemisphere - Wind Speed (mph) vs. Latitude Linear Regression"
   ]
  },
  {
   "cell_type": "code",
   "execution_count": null,
   "metadata": {},
   "outputs": [],
   "source": []
  },
  {
   "cell_type": "markdown",
   "metadata": {},
   "source": [
    "####  Southern Hemisphere - Wind Speed (mph) vs. Latitude Linear Regression"
   ]
  },
  {
   "cell_type": "code",
   "execution_count": null,
   "metadata": {},
   "outputs": [],
   "source": []
  },
  {
   "cell_type": "code",
   "execution_count": null,
   "metadata": {},
   "outputs": [],
   "source": []
  }
 ],
 "metadata": {
  "anaconda-cloud": {},
  "kernel_info": {
   "name": "python3"
  },
  "kernelspec": {
   "display_name": "Python 3",
   "language": "python",
   "name": "python3"
  },
  "language_info": {
   "codemirror_mode": {
    "name": "ipython",
    "version": 3
   },
   "file_extension": ".py",
   "mimetype": "text/x-python",
   "name": "python",
   "nbconvert_exporter": "python",
   "pygments_lexer": "ipython3",
   "version": "3.7.6"
  },
  "latex_envs": {
   "LaTeX_envs_menu_present": true,
   "autoclose": false,
   "autocomplete": true,
   "bibliofile": "biblio.bib",
   "cite_by": "apalike",
   "current_citInitial": 1,
   "eqLabelWithNumbers": true,
   "eqNumInitial": 1,
   "hotkeys": {
    "equation": "Ctrl-E",
    "itemize": "Ctrl-I"
   },
   "labels_anchors": false,
   "latex_user_defs": false,
   "report_style_numbering": false,
   "user_envs_cfg": false
  },
  "nteract": {
   "version": "0.12.3"
  }
 },
 "nbformat": 4,
 "nbformat_minor": 2
}
